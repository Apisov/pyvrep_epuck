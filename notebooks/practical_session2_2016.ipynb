{
 "cells": [
  {
   "cell_type": "markdown",
   "metadata": {},
   "source": [
    "**Preliminary note:** If you don't feel very comfortable with programming in general or with the Python language in particular, it is recommended to learn the basis of the language by following this [interactive Python tutorial](https://www.codecademy.com/learn/python). It is quite well explained and you can practice by typing and executing pieces of code in the webpage."
   ]
  },
  {
   "cell_type": "code",
   "execution_count": 1,
   "metadata": {
    "collapsed": false
   },
   "outputs": [],
   "source": [
    "from simulator_interface import get_session\n",
    "simulator, epuck = get_session()"
   ]
  },
  {
   "cell_type": "markdown",
   "metadata": {},
   "source": [
    "**Reminder :** Each time you encounter a cell in this notebook where there is code (as in the cells just above), you have to execute the cell by clicking on it and pressing `Shift+Enter` (unless it is explicitly specified not to do it). If at one point things are not going as expected (e.g. the robot doesn't move the way it should in the simulator, do the following steps:\n",
    "- Stop any code that can still be executing by pressing the \"stop-like\" button in the top menu bar of this document. \n",
    "- Go to the V-REP simulator and stop it by pressing the \"stop-like\" button in it (you might need to increase the size of the window to see it).\n",
    "- Restart the notebook by clicking `Kernel -> Restart` in the menu (sometimes doing it twice might help).\n",
    "- Execute the cell above.\n",
    "\n",
    "If it still doesn't work, quit the simulator (don't save the scene, or in another name). Then re-open V-REP and load the scene called `epuck-scene-1.ttt` in `Documents/rti2016/pyvrep_epuck/vrep_scenes`.\n",
    "\n",
    "But hopefully it should not happen too often. Tell me otherwise."
   ]
  },
  {
   "cell_type": "markdown",
   "metadata": {},
   "source": [
    "During the last practical session we have seen how to set the robot left and wheel speed as well as how to read the values returned by the left and right proximiter. We have programmed a first simple behavior where the robot slows down when approaching an obstacle. \n",
    "Here is a possible solution for this behavior:"
   ]
  },
  {
   "cell_type": "code",
   "execution_count": 2,
   "metadata": {
    "collapsed": false
   },
   "outputs": [
    {
     "ename": "KeyboardInterrupt",
     "evalue": "",
     "output_type": "error",
     "traceback": [
      "\u001b[1;31m---------------------------------------------------------------------------\u001b[0m",
      "\u001b[1;31mKeyboardInterrupt\u001b[0m                         Traceback (most recent call last)",
      "\u001b[1;32m<ipython-input-2-97e241e61a09>\u001b[0m in \u001b[0;36m<module>\u001b[1;34m()\u001b[0m\n\u001b[0;32m     18\u001b[0m \u001b[1;33m\u001b[0m\u001b[0m\n\u001b[0;32m     19\u001b[0m     \u001b[1;31m# Waits for 100 milliseconds before starting the next iteration (to avoid overloading you computer)\u001b[0m\u001b[1;33m\u001b[0m\u001b[1;33m\u001b[0m\u001b[0m\n\u001b[1;32m---> 20\u001b[1;33m     \u001b[0mepuck\u001b[0m\u001b[1;33m.\u001b[0m\u001b[0mwait\u001b[0m\u001b[1;33m(\u001b[0m\u001b[1;36m0.1\u001b[0m\u001b[1;33m)\u001b[0m\u001b[1;33m\u001b[0m\u001b[0m\n\u001b[0m",
      "\u001b[1;32m/home/clement/work/SPECS/dev/pyvrep_epuck/robots/epuck.py\u001b[0m in \u001b[0;36mwait\u001b[1;34m(self, seconds)\u001b[0m\n\u001b[0;32m    263\u001b[0m         \u001b[0mstart\u001b[0m \u001b[1;33m=\u001b[0m \u001b[0mself\u001b[0m\u001b[1;33m.\u001b[0m\u001b[0mio\u001b[0m\u001b[1;33m.\u001b[0m\u001b[0mget_simulation_current_time\u001b[0m\u001b[1;33m(\u001b[0m\u001b[1;33m)\u001b[0m\u001b[1;33m\u001b[0m\u001b[0m\n\u001b[0;32m    264\u001b[0m         \u001b[1;32mwhile\u001b[0m \u001b[0mself\u001b[0m\u001b[1;33m.\u001b[0m\u001b[0mio\u001b[0m\u001b[1;33m.\u001b[0m\u001b[0mget_simulation_current_time\u001b[0m\u001b[1;33m(\u001b[0m\u001b[1;33m)\u001b[0m \u001b[1;33m-\u001b[0m \u001b[0mstart\u001b[0m \u001b[1;33m<\u001b[0m \u001b[0mseconds\u001b[0m\u001b[1;33m:\u001b[0m\u001b[1;33m\u001b[0m\u001b[0m\n\u001b[1;32m--> 265\u001b[1;33m             \u001b[0msleep\u001b[0m\u001b[1;33m(\u001b[0m\u001b[1;36m0.005\u001b[0m\u001b[1;33m)\u001b[0m\u001b[1;33m\u001b[0m\u001b[0m\n\u001b[0m\u001b[0;32m    266\u001b[0m \u001b[1;33m\u001b[0m\u001b[0m\n\u001b[0;32m    267\u001b[0m     \u001b[1;32mdef\u001b[0m \u001b[0mattach_behavior\u001b[0m\u001b[1;33m(\u001b[0m\u001b[0mself\u001b[0m\u001b[1;33m,\u001b[0m \u001b[0mcallback\u001b[0m\u001b[1;33m,\u001b[0m \u001b[0mfreq\u001b[0m\u001b[1;33m=\u001b[0m\u001b[0mNone\u001b[0m\u001b[1;33m)\u001b[0m\u001b[1;33m:\u001b[0m\u001b[1;33m\u001b[0m\u001b[0m\n",
      "\u001b[1;31mKeyboardInterrupt\u001b[0m: "
     ]
    }
   ],
   "source": [
    "# Repeat 1000 times the indented code:\n",
    "for i in range(1000):\n",
    "    # Read the proximeter values and store them in the \"left\" and \"right\" variables\n",
    "    left, right = epuck.prox_activations()\n",
    "    \n",
    "    # Compute the sum of the values returned by the left and right proximeters.\n",
    "    # This sum will be between 0 and 2 because both \"left\" and \"right\" are between 0 and 1\n",
    "    sum_of_proxs = left + right\n",
    "    \n",
    "    # Compute the speed that will be applied to both wheels. \n",
    "    # The closer the obstacle (i.e. the higher the value returned by the proximeters). the lower the speed should be.\n",
    "    wheel_speed = 2 - sum_of_proxs\n",
    "    \n",
    "    # Set the speed of both wheel to the value we just have computed\n",
    "    epuck.left_spd = wheel_speed\n",
    "    epuck.right_spd = wheel_speed\n",
    "    \n",
    "    \n",
    "    # Waits for 100 milliseconds before starting the next iteration (to avoid overloading you computer)\n",
    "    epuck.wait(0.1)"
   ]
  },
  {
   "cell_type": "markdown",
   "metadata": {},
   "source": [
    "This example behavior defined above illustrates the general structure of a behavior. \n",
    "\n",
    "**Definition: ** a behavior consists in a loop repeated at a certain frequency where (1) the values of relevant sensors is read, (2) some computation is performed using these values and (3) commands are sent to the robot motors according to the result of this computation.\n",
    "\n",
    "In the example above, the frequency of the behavior is approximately 10 Hz, i.e. the core of the loop is executed approximately 10 times per second (because we wait for 0.1s at the end of each iteration. This is an approximation because we don't take into account the time needed to execute the instructions occuring before the waiting period. Step (1) corresponds to the reading of the left and right proximeter activations. Step (2) corresponds to the computation of `wheel_speed` according to the some of the proximeter activations. Finally, Step (3) corresponds to setting the speed of both wheels to the value of `wheel_speed`.\n",
    "\n",
    "Note that the code above will take a while to be executed (approximately `1000 * 0.1 = 100` seconds). During this time, you can't execute anything else in this notebook. To stop the execution before it terminates by itself, press the \"stop-like\" button in the top menu bar of this document. \n",
    "\n",
    "This approach has two major drawbacks:\n",
    "- Only one behavior can run at a time.\n",
    "- The behavior has a fixed duration (at one point it will stop)\n",
    "- One can't stop a behavior programatically (instead one has to press the \"stop-like\" button).\n",
    "\n",
    "To overcome this problem, we provide a more flexible method for defining and executing behaviors. Let's rewrite the behavior above using that method. First make sure the previous code is not still being executed by pressing the \"stop-like\" button in the top menu bar of this document. Now, defining a behavior boils down to define a function which includes the core of the behavioral loop:"
   ]
  },
  {
   "cell_type": "markdown",
   "metadata": {},
   "source": [
    "** TO CHECK: behavior definition could return wheel speed (as below). Better for mixing behaviors.**"
   ]
  },
  {
   "cell_type": "code",
   "execution_count": 2,
   "metadata": {
    "collapsed": true
   },
   "outputs": [],
   "source": [
    "def slow_down(epuck):\n",
    "    # read the sensor values\n",
    "    left, right = epuck.prox_activations()\n",
    "    \n",
    "    # do some computation\n",
    "    sum_of_proxs = left + right\n",
    "    wheel_speed = 2 - sum_of_proxs\n",
    "    \n",
    "    # set the motor values\n",
    "    # epuck.left_spd = wheel_speed\n",
    "    # epuck.right_spd = wheel_speed \n",
    "    return wheel_speed, wheel_speed"
   ]
  },
  {
   "cell_type": "code",
   "execution_count": 3,
   "metadata": {
    "collapsed": true
   },
   "outputs": [],
   "source": [
    "def obstacle_avoidance(epuck):\n",
    "    left, right = epuck.prox_activations()\n",
    "    return left, right"
   ]
  },
  {
   "cell_type": "code",
   "execution_count": 4,
   "metadata": {
    "collapsed": true
   },
   "outputs": [],
   "source": [
    "def behavior_combination(epuck):\n",
    "    left1, right1 = slow_down(epuck)\n",
    "    left2, right2 = obstacle_avoidance(epuck)\n",
    "    return left1 + left2, right1 + right2"
   ]
  },
  {
   "cell_type": "code",
   "execution_count": 22,
   "metadata": {
    "collapsed": false
   },
   "outputs": [
    {
     "data": {
      "text/plain": [
       "['epuck']"
      ]
     },
     "execution_count": 22,
     "metadata": {},
     "output_type": "execute_result"
    }
   ],
   "source": [
    "import inspect\n",
    "args = inspect.getargspec(behavior_combination)\n",
    "args.args"
   ]
  },
  {
   "cell_type": "markdown",
   "metadata": {},
   "source": [
    "The cell above defines a function called `slow_down` (one can choose an arbitrary name but it's better if it reflects the purpose of the behavior defined in it). In Python, the definition of a function starts with the keyword `def`, followed by the arbitrary name we choose for the function (here `slow_down`), then the arguments of the function in parenthesis (in our case it will be the variable representing the robot, called `epuck`) and finally the symbol `:`. Below, you find the instructions that this function will execute when it will be called. Those instructions need to be intended right with respect to the first line. In this example, the instructions are the exact same than in core of the previous `for` loop, except that we omit the last line (`epuck.wait(0.1)`).\n",
    "\n",
    "Once the behavior is defined in a function, we can attach it to the robot by executing:\n"
   ]
  },
  {
   "cell_type": "code",
   "execution_count": 5,
   "metadata": {
    "collapsed": false
   },
   "outputs": [],
   "source": [
    "epuck.attach_behavior(behavior_combination, freq=10)"
   ]
  },
  {
   "cell_type": "markdown",
   "metadata": {},
   "source": [
    "The line above means: attach the behavior defined in the function `slow_down` to the `epuck` robot and set the frequency at which it will be repeated to 10Hz. Note that this instruction does not execute the behavior on the robot, it only informs the robot that the behavior is available to it. In order to run the behavior, we have to execute the following instruction:"
   ]
  },
  {
   "cell_type": "code",
   "execution_count": 6,
   "metadata": {
    "collapsed": false
   },
   "outputs": [],
   "source": [
    "epuck.start_behavior(behavior_combination)"
   ]
  },
  {
   "cell_type": "markdown",
   "metadata": {},
   "source": [
    "The line above means: start running the previously attached behavior `slow_down` on the `epuck`. Executing the above line will basically do the same thing as executing the `for` loop at the start of this document. Here, the function `slow_down` will be executed at a frequency of 10Hz (i.e. 10 times per second) indefinitely. Look in the simulator, you should see the robot slowing down as it approaches an obstacle.\n",
    "\n",
    "Using this method has the following advantages over the previous method using the `for` loop:\n",
    "- It is more compact to write and it will allow to better structure your code when you will have to deal with multiple behaviors and multiple robots.\n",
    "- It better manages the frequency at which the behavior is run. Now the behavior runs at *exactly* 10Hz, whereas in the previous method one can only approximate the true frequency.\n",
    "- It is not blocking as the previous method was. This means that you can still use this notebook while the behavior is running on the robot. For example, let's read the proximeter activations while the robot is executing the `slow_down` behavior:"
   ]
  },
  {
   "cell_type": "code",
   "execution_count": 15,
   "metadata": {
    "collapsed": false
   },
   "outputs": [
    {
     "data": {
      "text/plain": [
       "array([ 0.97370812,  0.9744308 ])"
      ]
     },
     "execution_count": 15,
     "metadata": {},
     "output_type": "execute_result"
    }
   ],
   "source": [
    "epuck.prox_activations()"
   ]
  },
  {
   "cell_type": "markdown",
   "metadata": {},
   "source": [
    "Each time you execute the cell above, you should see the proximeter activation changing because the robot is moving. However, you should avoid setting motor values while a behavior is running since this could conflict with the behavior also setting those values. If you want to stop the behavior, you can execute:"
   ]
  },
  {
   "cell_type": "markdown",
   "metadata": {},
   "source": [
    "When a behavior is started, it runs indefinitely until you explicitly tell it to stop. To do so, you have to execute:"
   ]
  },
  {
   "cell_type": "code",
   "execution_count": 16,
   "metadata": {
    "collapsed": false
   },
   "outputs": [],
   "source": [
    "epuck.stop_behavior(slow_down)"
   ]
  },
  {
   "cell_type": "markdown",
   "metadata": {},
   "source": [
    "Note that the robot will continue moving using the last wheel speeds that were set by the behavior. You can set both wheel speeds to 0 by executing:"
   ]
  },
  {
   "cell_type": "code",
   "execution_count": 17,
   "metadata": {
    "collapsed": true
   },
   "outputs": [],
   "source": [
    "epuck.stop()"
   ]
  },
  {
   "cell_type": "markdown",
   "metadata": {},
   "source": [
    "Finally, if you don't want the behavior to be attached to the robot anymore (for example if you want to change it), you can execute:"
   ]
  },
  {
   "cell_type": "code",
   "execution_count": 17,
   "metadata": {
    "collapsed": true
   },
   "outputs": [],
   "source": [
    "epuck.detach_behavior(slow_down)"
   ]
  },
  {
   "cell_type": "markdown",
   "metadata": {},
   "source": [
    "At anytime, you can check what behaviors are attached to the robot with:"
   ]
  },
  {
   "cell_type": "code",
   "execution_count": 5,
   "metadata": {
    "collapsed": false
   },
   "outputs": [
    {
     "name": "stdout",
     "output_type": "stream",
     "text": [
      "Behavior \" slow_down \" is attached and   STARTED.\n",
      "Behavior \"slow_down\" is attached and STARTED\n"
     ]
    }
   ],
   "source": [
    "epuck.check_behaviors()"
   ]
  },
  {
   "cell_type": "markdown",
   "metadata": {},
   "source": [
    "**Q1:** To make sure you correctly understand how to attach, start, stop and detach a behavior, complete the following code:"
   ]
  },
  {
   "cell_type": "code",
   "execution_count": null,
   "metadata": {
    "collapsed": true
   },
   "outputs": [],
   "source": [
    "# First we make sure that no behavior is attach to the robot:\n",
    "epuck.detach_all_behaviors()\n",
    "\n",
    "# When checking, it should print \"No behavior attached\":\n",
    "epuck.check_behaviors() # This will print \"No behavior attached\"\n",
    "\n",
    "# Write just below this line the code that attaches the slow_down behavior\n",
    "\n",
    "epuck.check_behaviors() # This will print \"Behavior \"slow_down\" is attached and NOT STARTED\"\n",
    "\n",
    "# Write just below this line the code that starts the slow_down behavior\n",
    "\n",
    "epuck.check_behaviors() # This will print \"Behavior \"slow_down\" is attached and STARTED\"\n",
    "\n",
    "# Write just below this line the code that stops the slow_down behavior\n",
    "\n",
    "epuck.check_behaviors() # This will print \"Behavior \"slow_down\" is attached and NOT STARTED\"\n",
    "\n",
    "# Write just below this line the code that detaches the slow_down behavior\n",
    "\n",
    "epuck.check_behaviors() # This will print \"No behavior attached\""
   ]
  },
  {
   "cell_type": "markdown",
   "metadata": {},
   "source": [
    "Let's summarize the method we have just describe to define, attach, start, stop and detach a behavior:"
   ]
  },
  {
   "cell_type": "code",
   "execution_count": 2,
   "metadata": {
    "collapsed": true
   },
   "outputs": [],
   "source": [
    "# First, detach all the behaviors that might still be attached to the robot (it is a good practice to do it each time you want to define a new behavior):\n",
    "epuck.start_all_behaviors()\n",
    "\n",
    "# Define a behavior where the robot progressively slows down when it approaches an obstacle:\n",
    "def slow_down(epuck):\n",
    "    # read the sensor values\n",
    "    left, right = epuck.prox_activations()\n",
    "    \n",
    "    # do some computation\n",
    "    sum_of_proxs = left + right\n",
    "    wheel_speed = 2 - sum_of_proxs\n",
    "    \n",
    "    # set the motor values\n",
    "    # epuck.left_spd = wheel_speed\n",
    "    # epuck.right_spd = wheel_speed \n",
    "    return wheel_speed, wheel_speed\n",
    "\n",
    "\n",
    "# Attach this behavior to the robot, specifying the frequency (in Hz) at which it has to be executed\n",
    "epuck.attach_behavior(slow_down, freq=10)"
   ]
  },
  {
   "cell_type": "code",
   "execution_count": 3,
   "metadata": {
    "collapsed": true
   },
   "outputs": [],
   "source": [
    "# Start the behavior in the simulator\n",
    "epuck.start_behavior(slow_down)"
   ]
  },
  {
   "cell_type": "markdown",
   "metadata": {},
   "source": [
    "When executing the code above, you should the behavior being executed on the robot in the simulator. Then, to stop and detach the behavior:"
   ]
  },
  {
   "cell_type": "code",
   "execution_count": 4,
   "metadata": {
    "collapsed": false
   },
   "outputs": [],
   "source": [
    "epuck.stop_behavior(slow_down)\n",
    "epuck.detach_behavior(slow_down)"
   ]
  },
  {
   "cell_type": "markdown",
   "metadata": {},
   "source": [
    "An alternative way is to stop and detach all the behaviors running on the robot. This avoids having to specify the name of the behavior (`slown_down` in the cell above) and also stops systematically the behavior before detaching it:"
   ]
  },
  {
   "cell_type": "code",
   "execution_count": 25,
   "metadata": {
    "collapsed": true
   },
   "outputs": [],
   "source": [
    "epuck.detach_all_behaviors()"
   ]
  },
  {
   "cell_type": "markdown",
   "metadata": {},
   "source": [
    "Let's now practice a bit."
   ]
  },
  {
   "cell_type": "markdown",
   "metadata": {},
   "source": [
    "Remember the example of a car having to stop we have seen in class in [this slide](https://cdn.rawgit.com/clement-moulin-frier/rti_course/master/class_1/intro.sozi.html#frame3456). We will realize a sort of crash-test for the E-Puck and determine empirically the maximum reaction time allowed in the \"slow_down\" behavior. \n",
    "\n",
    "**Q1:** Redefine the \"slow_down\" behavior we have seen above so that the robot move 10 times faster. You can copy-paste the definition of the \"slow_down\" behavior provided above. Remember to stop and detach the behavior each time you modify its definition."
   ]
  },
  {
   "cell_type": "code",
   "execution_count": 14,
   "metadata": {
    "collapsed": true
   },
   "outputs": [],
   "source": [
    "def heaviside(x):\n",
    "    if x >= 0:\n",
    "        return 1.\n",
    "    else:\n",
    "        return 0."
   ]
  },
  {
   "cell_type": "code",
   "execution_count": 27,
   "metadata": {
    "collapsed": false
   },
   "outputs": [],
   "source": [
    "# Define the behavior just below\n",
    "def emergency_break(epuck):\n",
    "    left, right = epuck.prox_activations()\n",
    "    \n",
    "    sum_of_proxs = left + right\n",
    "    \n",
    "    wheel_speed = 30. * heaviside(1.5 - sum_of_proxs)\n",
    "    \n",
    "    return wheel_speed, wheel_speed"
   ]
  },
  {
   "cell_type": "code",
   "execution_count": 7,
   "metadata": {
    "collapsed": false
   },
   "outputs": [
    {
     "data": {
      "text/plain": [
       "1.3523094822084483"
      ]
     },
     "execution_count": 7,
     "metadata": {},
     "output_type": "execute_result"
    }
   ],
   "source": [
    "epuck.left_spd"
   ]
  },
  {
   "cell_type": "code",
   "execution_count": 28,
   "metadata": {
    "collapsed": false
   },
   "outputs": [
    {
     "name": "stdout",
     "output_type": "stream",
     "text": [
      "0.0 0.0\n"
     ]
    }
   ],
   "source": [
    "# Then attach and start it \n",
    "epuck.attach_behavior(slow_down, freq=10)\n",
    "epuck.start_behavior(slow_down)\n",
    "print epuck.left_spd, epuck.right_spd"
   ]
  },
  {
   "cell_type": "code",
   "execution_count": 8,
   "metadata": {
    "collapsed": false
   },
   "outputs": [
    {
     "name": "stdout",
     "output_type": "stream",
     "text": [
      "Behavior obstacle_avoidance detached\n"
     ]
    }
   ],
   "source": [
    "# When you modify the definition above, first execute this cell before re-executing the one above\n",
    "epuck.detach_all_behaviors()"
   ]
  },
  {
   "cell_type": "code",
   "execution_count": 9,
   "metadata": {
    "collapsed": true
   },
   "outputs": [],
   "source": [
    "# You might also want to immobiize the E-Puck\n",
    "epuck.stop()\n",
    "# Then move the robot back to its starting point in by dragging it in V-REP. \n",
    "# Alternatively you can stop the simulation in V-REP (easier)"
   ]
  },
  {
   "cell_type": "code",
   "execution_count": 34,
   "metadata": {
    "collapsed": false
   },
   "outputs": [],
   "source": [
    "from numpy import exp\n",
    "from numpy.random import rand\n",
    "def obstacle_avoidance(epuck):\n",
    "    left, right = 1 + 3 * epuck.prox_activations() + (rand(2) - 0.5) * 2\n",
    "    return left, right"
   ]
  },
  {
   "cell_type": "code",
   "execution_count": 27,
   "metadata": {
    "collapsed": false
   },
   "outputs": [
    {
     "data": {
      "text/plain": [
       "array([ 0.10887457,  0.89367336])"
      ]
     },
     "execution_count": 27,
     "metadata": {},
     "output_type": "execute_result"
    }
   ],
   "source": [
    "rand(2)"
   ]
  },
  {
   "cell_type": "code",
   "execution_count": 35,
   "metadata": {
    "collapsed": false
   },
   "outputs": [
    {
     "name": "stdout",
     "output_type": "stream",
     "text": [
      "Behavior obstacle_avoidance started\n"
     ]
    }
   ],
   "source": [
    "epuck.attach_behavior(obstacle_avoidance, freq=10)\n",
    "epuck.start_all_behaviors()"
   ]
  },
  {
   "cell_type": "code",
   "execution_count": 36,
   "metadata": {
    "collapsed": false
   },
   "outputs": [
    {
     "name": "stdout",
     "output_type": "stream",
     "text": [
      "Behavior obstacle_avoidance detached\n"
     ]
    }
   ],
   "source": [
    "# When you modify the definition above, first execute this cell before re-executing the one above\n",
    "epuck.detach_all_behaviors()\n",
    "epuck.stop()"
   ]
  },
  {
   "cell_type": "code",
   "execution_count": 1,
   "metadata": {
    "collapsed": false
   },
   "outputs": [
    {
     "name": "stdout",
     "output_type": "stream",
     "text": [
      "[0, 1, 2, 3, 4, 5, 6, 7]\n"
     ]
    }
   ],
   "source": [
    "from simulator_interface import get_session\n",
    "simulator, epuck = get_session()"
   ]
  },
  {
   "cell_type": "code",
   "execution_count": 19,
   "metadata": {
    "collapsed": false
   },
   "outputs": [
    {
     "data": {
      "text/plain": [
       "(array([ 1208.52081599,  1418.62856531]), 0)"
      ]
     },
     "execution_count": 19,
     "metadata": {},
     "output_type": "execute_result"
    }
   ],
   "source": [
    "epuck.proximeters(), epuck.min_index()"
   ]
  },
  {
   "cell_type": "code",
   "execution_count": 2,
   "metadata": {
    "collapsed": false
   },
   "outputs": [
    {
     "ename": "KeyboardInterrupt",
     "evalue": "",
     "output_type": "error",
     "traceback": [
      "\u001b[1;31m---------------------------------------------------------------------------\u001b[0m",
      "\u001b[1;31mKeyboardInterrupt\u001b[0m                         Traceback (most recent call last)",
      "\u001b[1;32m<ipython-input-2-534e776d8716>\u001b[0m in \u001b[0;36m<module>\u001b[1;34m()\u001b[0m\n\u001b[0;32m      1\u001b[0m \u001b[1;32mwhile\u001b[0m \u001b[0mTrue\u001b[0m\u001b[1;33m:\u001b[0m\u001b[1;33m\u001b[0m\u001b[0m\n\u001b[0;32m      2\u001b[0m     \u001b[0mepuck\u001b[0m\u001b[1;33m.\u001b[0m\u001b[0mfwd_spd\u001b[0m \u001b[1;33m=\u001b[0m \u001b[1;36m0.2\u001b[0m\u001b[1;33m\u001b[0m\u001b[0m\n\u001b[1;32m----> 3\u001b[1;33m     \u001b[0midx\u001b[0m \u001b[1;33m=\u001b[0m \u001b[0mepuck\u001b[0m\u001b[1;33m.\u001b[0m\u001b[0mmin_index\u001b[0m\u001b[1;33m(\u001b[0m\u001b[1;33m)\u001b[0m\u001b[1;33m\u001b[0m\u001b[0m\n\u001b[0m\u001b[0;32m      4\u001b[0m     \u001b[0mrot\u001b[0m \u001b[1;33m=\u001b[0m \u001b[1;33m(\u001b[0m\u001b[0midx\u001b[0m \u001b[1;33m-\u001b[0m \u001b[1;36m0.5\u001b[0m\u001b[1;33m)\u001b[0m \u001b[1;31m#/ 2.\u001b[0m\u001b[1;33m\u001b[0m\u001b[0m\n\u001b[0;32m      5\u001b[0m     \u001b[0mepuck\u001b[0m\u001b[1;33m.\u001b[0m\u001b[0mrot_spd\u001b[0m \u001b[1;33m=\u001b[0m \u001b[0mrot\u001b[0m\u001b[1;33m\u001b[0m\u001b[0m\n",
      "\u001b[1;32m/home/clement/work/SPECS/dev/pyvrep_epuck/robots/epuck.py\u001b[0m in \u001b[0;36mmin_index\u001b[1;34m(self)\u001b[0m\n\u001b[0;32m    180\u001b[0m     \u001b[1;32mdef\u001b[0m \u001b[0mmin_index\u001b[0m\u001b[1;33m(\u001b[0m\u001b[0mself\u001b[0m\u001b[1;33m)\u001b[0m\u001b[1;33m:\u001b[0m\u001b[1;33m\u001b[0m\u001b[0m\n\u001b[0;32m    181\u001b[0m         \u001b[1;31m# proxs = self.no_detection_value * ones(len(self.used_proximeters))\u001b[0m\u001b[1;33m\u001b[0m\u001b[1;33m\u001b[0m\u001b[0m\n\u001b[1;32m--> 182\u001b[1;33m         \u001b[0mproxs\u001b[0m \u001b[1;33m=\u001b[0m \u001b[0mself\u001b[0m\u001b[1;33m.\u001b[0m\u001b[0mproximeters\u001b[0m\u001b[1;33m(\u001b[0m\u001b[1;33m)\u001b[0m\u001b[1;33m\u001b[0m\u001b[0m\n\u001b[0m\u001b[0;32m    183\u001b[0m         \u001b[1;32mreturn\u001b[0m \u001b[0margmin\u001b[0m\u001b[1;33m(\u001b[0m\u001b[0mproxs\u001b[0m\u001b[1;33m)\u001b[0m\u001b[1;33m\u001b[0m\u001b[0m\n\u001b[0;32m    184\u001b[0m \u001b[1;33m\u001b[0m\u001b[0m\n",
      "\u001b[1;32m/home/clement/work/SPECS/dev/pyvrep_epuck/robots/epuck.py\u001b[0m in \u001b[0;36mproximeters\u001b[1;34m(self, tracked_objects, mode)\u001b[0m\n\u001b[0;32m    147\u001b[0m         \u001b[1;32mwith\u001b[0m \u001b[0mself\u001b[0m\u001b[1;33m.\u001b[0m\u001b[0mio\u001b[0m\u001b[1;33m.\u001b[0m\u001b[0mpause_communication\u001b[0m\u001b[1;33m(\u001b[0m\u001b[1;33m)\u001b[0m\u001b[1;33m:\u001b[0m\u001b[1;33m\u001b[0m\u001b[0m\n\u001b[0;32m    148\u001b[0m             \u001b[1;32mfor\u001b[0m \u001b[0mi\u001b[0m \u001b[1;32min\u001b[0m \u001b[0mself\u001b[0m\u001b[1;33m.\u001b[0m\u001b[0mused_proximeters\u001b[0m\u001b[1;33m:\u001b[0m\u001b[1;33m\u001b[0m\u001b[0m\n\u001b[1;32m--> 149\u001b[1;33m                 \u001b[0mdetectionState\u001b[0m\u001b[1;33m,\u001b[0m \u001b[0mdetectedPoint\u001b[0m\u001b[1;33m,\u001b[0m \u001b[0mdetectedObjectHandle\u001b[0m\u001b[1;33m,\u001b[0m \u001b[0mdetectedSurfaceNormalVector\u001b[0m \u001b[1;33m=\u001b[0m \u001b[0mself\u001b[0m\u001b[1;33m.\u001b[0m\u001b[0mio\u001b[0m\u001b[1;33m.\u001b[0m\u001b[0mcall_remote_api\u001b[0m\u001b[1;33m(\u001b[0m\u001b[1;34m\"simxReadProximitySensor\"\u001b[0m\u001b[1;33m,\u001b[0m \u001b[0mself\u001b[0m\u001b[1;33m.\u001b[0m\u001b[0m_all_prox_handles\u001b[0m\u001b[1;33m[\u001b[0m\u001b[0mi\u001b[0m\u001b[1;33m]\u001b[0m\u001b[1;33m,\u001b[0m \u001b[0mbuffer\u001b[0m\u001b[1;33m=\u001b[0m\u001b[0mTrue\u001b[0m\u001b[1;33m)\u001b[0m\u001b[1;33m\u001b[0m\u001b[0m\n\u001b[0m\u001b[0;32m    150\u001b[0m                 \u001b[1;31m# print detectedObjectHandle - 1\u001b[0m\u001b[1;33m\u001b[0m\u001b[1;33m\u001b[0m\u001b[0m\n\u001b[0;32m    151\u001b[0m                 \u001b[1;32mif\u001b[0m \u001b[0mdetectionState\u001b[0m\u001b[1;33m:\u001b[0m\u001b[1;33m\u001b[0m\u001b[0m\n",
      "\u001b[1;32m/home/clement/dev/pypot/pypot/vrep/io.pyc\u001b[0m in \u001b[0;36mcall_remote_api\u001b[1;34m(self, func_name, *args, **kwargs)\u001b[0m\n\u001b[0;32m    323\u001b[0m             \u001b[1;32melse\u001b[0m\u001b[1;33m:\u001b[0m\u001b[1;33m\u001b[0m\u001b[0m\n\u001b[0;32m    324\u001b[0m                 \u001b[0merr\u001b[0m\u001b[1;33m,\u001b[0m \u001b[0mres\u001b[0m \u001b[1;33m=\u001b[0m \u001b[0mret\u001b[0m\u001b[1;33m[\u001b[0m\u001b[1;36m0\u001b[0m\u001b[1;33m]\u001b[0m\u001b[1;33m,\u001b[0m \u001b[0mret\u001b[0m\u001b[1;33m[\u001b[0m\u001b[1;36m1\u001b[0m\u001b[1;33m:\u001b[0m\u001b[1;33m]\u001b[0m\u001b[1;33m\u001b[0m\u001b[0m\n\u001b[1;32m--> 325\u001b[1;33m                 \u001b[0mres\u001b[0m \u001b[1;33m=\u001b[0m \u001b[0mres\u001b[0m\u001b[1;33m[\u001b[0m\u001b[1;36m0\u001b[0m\u001b[1;33m]\u001b[0m \u001b[1;32mif\u001b[0m \u001b[0mlen\u001b[0m\u001b[1;33m(\u001b[0m\u001b[0mres\u001b[0m\u001b[1;33m)\u001b[0m \u001b[1;33m==\u001b[0m \u001b[1;36m1\u001b[0m \u001b[1;32melse\u001b[0m \u001b[0mres\u001b[0m\u001b[1;33m\u001b[0m\u001b[0m\n\u001b[0m\u001b[0;32m    326\u001b[0m \u001b[1;33m\u001b[0m\u001b[0m\n\u001b[0;32m    327\u001b[0m             \u001b[0merr\u001b[0m \u001b[1;33m=\u001b[0m \u001b[1;33m[\u001b[0m\u001b[0mbool\u001b[0m\u001b[1;33m(\u001b[0m\u001b[1;33m(\u001b[0m\u001b[0merr\u001b[0m \u001b[1;33m>>\u001b[0m \u001b[0mi\u001b[0m\u001b[1;33m)\u001b[0m \u001b[1;33m&\u001b[0m \u001b[1;36m1\u001b[0m\u001b[1;33m)\u001b[0m \u001b[1;32mfor\u001b[0m \u001b[0mi\u001b[0m \u001b[1;32min\u001b[0m \u001b[0mrange\u001b[0m\u001b[1;33m(\u001b[0m\u001b[0mlen\u001b[0m\u001b[1;33m(\u001b[0m\u001b[0mvrep_error\u001b[0m\u001b[1;33m)\u001b[0m\u001b[1;33m)\u001b[0m\u001b[1;33m]\u001b[0m\u001b[1;33m\u001b[0m\u001b[0m\n",
      "\u001b[1;31mKeyboardInterrupt\u001b[0m: "
     ]
    }
   ],
   "source": [
    "while True:\n",
    "    epuck.fwd_spd = 0.2\n",
    "    idx = epuck.min_index()\n",
    "    rot = (idx - 0.5) #/ 2.\n",
    "    epuck.rot_spd = rot"
   ]
  },
  {
   "cell_type": "code",
   "execution_count": 17,
   "metadata": {
    "collapsed": false
   },
   "outputs": [
    {
     "data": {
      "text/plain": [
       "array([False,  True], dtype=bool)"
      ]
     },
     "execution_count": 17,
     "metadata": {},
     "output_type": "execute_result"
    }
   ],
   "source": [
    "from numpy import array\n",
    "array([-1, 1]) > 0"
   ]
  },
  {
   "cell_type": "code",
   "execution_count": null,
   "metadata": {
    "collapsed": true
   },
   "outputs": [],
   "source": [
    "del simulator"
   ]
  },
  {
   "cell_type": "code",
   "execution_count": null,
   "metadata": {
    "collapsed": true
   },
   "outputs": [],
   "source": [
    "del epuck"
   ]
  },
  {
   "cell_type": "code",
   "execution_count": 11,
   "metadata": {
    "collapsed": false
   },
   "outputs": [],
   "source": [
    "epuck.left_spd = 18\n",
    "epuck.right_spd = 6"
   ]
  },
  {
   "cell_type": "markdown",
   "metadata": {},
   "source": [
    "**Q2:** Real-time constraint."
   ]
  },
  {
   "cell_type": "code",
   "execution_count": 13,
   "metadata": {
    "collapsed": false
   },
   "outputs": [
    {
     "data": {
      "text/plain": [
       "array([ 0.        ,  0.66596079])"
      ]
     },
     "execution_count": 13,
     "metadata": {},
     "output_type": "execute_result"
    }
   ],
   "source": [
    "epuck.prox_activations(\"Cup\")"
   ]
  },
  {
   "cell_type": "code",
   "execution_count": 7,
   "metadata": {
    "collapsed": false
   },
   "outputs": [
    {
     "data": {
      "text/plain": [
       "array([ 1397.80948896,  1840.01990775])"
      ]
     },
     "execution_count": 7,
     "metadata": {},
     "output_type": "execute_result"
    }
   ],
   "source": [
    "epuck.proximeters()"
   ]
  },
  {
   "cell_type": "code",
   "execution_count": 5,
   "metadata": {
    "collapsed": false
   },
   "outputs": [
    {
     "data": {
      "text/plain": [
       "2000.0"
      ]
     },
     "execution_count": 5,
     "metadata": {},
     "output_type": "execute_result"
    }
   ],
   "source": [
    "epuck.no_detection_value"
   ]
  },
  {
   "cell_type": "code",
   "execution_count": 21,
   "metadata": {
    "collapsed": false
   },
   "outputs": [],
   "source": [
    "epuck.stop()"
   ]
  },
  {
   "cell_type": "code",
   "execution_count": 4,
   "metadata": {
    "collapsed": false
   },
   "outputs": [
    {
     "data": {
      "text/plain": [
       "0"
      ]
     },
     "execution_count": 4,
     "metadata": {},
     "output_type": "execute_result"
    }
   ],
   "source": [
    "len(epuck._behaviors)"
   ]
  },
  {
   "cell_type": "code",
   "execution_count": null,
   "metadata": {
    "collapsed": true
   },
   "outputs": [],
   "source": []
  }
 ],
 "metadata": {
  "kernelspec": {
   "display_name": "Python 2",
   "language": "python",
   "name": "python2"
  },
  "language_info": {
   "codemirror_mode": {
    "name": "ipython",
    "version": 2
   },
   "file_extension": ".py",
   "mimetype": "text/x-python",
   "name": "python",
   "nbconvert_exporter": "python",
   "pygments_lexer": "ipython2",
   "version": "2.7.12"
  }
 },
 "nbformat": 4,
 "nbformat_minor": 0
}
