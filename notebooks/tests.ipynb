{
 "metadata": {
  "name": "",
  "signature": "sha256:2d8e2968a23aed97dea23c9c0a71e2d283a05281aaddd206e7ec2b7551d85b3c"
 },
 "nbformat": 3,
 "nbformat_minor": 0,
 "worksheets": [
  {
   "cells": [
    {
     "cell_type": "code",
     "collapsed": false,
     "input": [
      "import sys\n",
      "sys.path.append(\"..\")\n",
      "from robots.epuck import Epuck\n",
      "epuck = Epuck()"
     ],
     "language": "python",
     "metadata": {},
     "outputs": [],
     "prompt_number": 1
    },
    {
     "cell_type": "code",
     "collapsed": false,
     "input": [
      "epuck.stop()\n",
      "epuck.start()"
     ],
     "language": "python",
     "metadata": {},
     "outputs": [],
     "prompt_number": 2
    },
    {
     "cell_type": "code",
     "collapsed": false,
     "input": [
      "from numpy import argmin\n",
      "\n",
      "def always(robot):\n",
      "    return True\n",
      "\n",
      "def front_obstacle(robot):\n",
      "    return robot.is_min_distance(group=\"front\", min_dist=100)  \n",
      "\n",
      "def move_forward(robot):\n",
      "    robot.move(0.2)\n",
      "    \n",
      "def stop(robot):\n",
      "    robot.left_vel(0.)\n",
      "    robot.right_vel(0.)\n",
      "    \n",
      "def speed_distance(robot):\n",
      "    proxs = robot.proximeters(\"al\")\n",
      "    proxs = proxs[proxs != 0.]\n",
      "    distance = min(proxs)\n",
      "    speed = float(distance) / 10000.\n",
      "    robot.move(speed)\n",
      "    \n",
      "def avoid_continuous(robot):\n",
      "    proxs = robot.proximeters(\"all-but-rear\")\n",
      "    proxs[proxs == 0.] = 1e6\n",
      "    danger = argmin(proxs)\n",
      "    angle = danger - 2.5\n",
      "    robot.move((abs(angle) / 10.) * (min(proxs[danger], 2000) / 1000.), angle / 6.)\n"
     ],
     "language": "python",
     "metadata": {},
     "outputs": [],
     "prompt_number": 3
    },
    {
     "cell_type": "code",
     "collapsed": false,
     "input": [
      "epuck.attach_behavior(avoid_continuous, always)"
     ],
     "language": "python",
     "metadata": {},
     "outputs": [],
     "prompt_number": 4
    },
    {
     "cell_type": "code",
     "collapsed": false,
     "input": [
      "epuck.attach_behavior(move_forward, always)\n",
      "epuck.attach_behavior(stop, front_obstacle)"
     ],
     "language": "python",
     "metadata": {},
     "outputs": [],
     "prompt_number": 6
    },
    {
     "cell_type": "code",
     "collapsed": false,
     "input": [
      "epuck.start_all_behaviors()"
     ],
     "language": "python",
     "metadata": {},
     "outputs": [
      {
       "output_type": "stream",
       "stream": "stdout",
       "text": [
        "Behavior avoid_continuous started\n"
       ]
      }
     ],
     "prompt_number": 5
    },
    {
     "cell_type": "code",
     "collapsed": false,
     "input": [
      "epuck.start_behavior(\"avoid_continuous\")"
     ],
     "language": "python",
     "metadata": {},
     "outputs": [],
     "prompt_number": 11
    },
    {
     "cell_type": "code",
     "collapsed": false,
     "input": [
      "enumerate?"
     ],
     "language": "python",
     "metadata": {},
     "outputs": [],
     "prompt_number": 6
    },
    {
     "cell_type": "code",
     "collapsed": false,
     "input": [
      "epuck.stop_behavior(\"avoid_continuous\")"
     ],
     "language": "python",
     "metadata": {},
     "outputs": [],
     "prompt_number": 6
    },
    {
     "cell_type": "code",
     "collapsed": false,
     "input": [],
     "language": "python",
     "metadata": {},
     "outputs": [
      {
       "output_type": "stream",
       "stream": "stdout",
       "text": [
        "0 -2.5\n",
        "0 -2.5\n"
       ]
      }
     ],
     "prompt_number": 5
    },
    {
     "cell_type": "code",
     "collapsed": false,
     "input": [
      "epuck.move(0.2)"
     ],
     "language": "python",
     "metadata": {},
     "outputs": [
      {
       "output_type": "stream",
       "stream": "stdout",
       "text": [
        "\n"
       ]
      },
      {
       "output_type": "stream",
       "stream": "stderr",
       "text": [
        "Exception in thread Thread-4:\n",
        "Traceback (most recent call last):\n",
        "  File \"/usr/lib/python2.7/threading.py\", line 810, in __bootstrap_inner\n",
        "    self.run()\n",
        "  File \"../robots/epuck.py\", line 216, in run\n",
        "    print \"acquired\"\n",
        "  File \"/usr/lib/python2.7/dist-packages/IPython/kernel/zmq/iostream.py\", line 205, in write\n",
        "    self._buffer.write(string)\n",
        "ValueError: I/O operation on closed file\n",
        "\n"
       ]
      }
     ],
     "prompt_number": 6
    },
    {
     "cell_type": "code",
     "collapsed": false,
     "input": [
      "from threading import Condition, Thread\n",
      "import time\n",
      "\n",
      "def waiter(cond):\n",
      "    cond.acquire()\n",
      "    print \"Waiting ...\"\n",
      "    cond.wait()\n",
      "    print \"Done\"\n",
      "    cond.release()\n",
      "    \n",
      "def notifier(cond):\n",
      "    cond.acquire()\n",
      "    for i in range(10):\n",
      "        print \"waiting 1s\"\n",
      "        time.sleep(1)\n",
      "    cond.notify()\n",
      "    cond.release()\n",
      "    \n",
      "condition = Condition()\n",
      "w = Thread(target=waiter, args=(condition,))\n",
      "n = Thread(target=notifier, args=(condition,))"
     ],
     "language": "python",
     "metadata": {},
     "outputs": [],
     "prompt_number": 1
    },
    {
     "cell_type": "code",
     "collapsed": false,
     "input": [
      "w.start()"
     ],
     "language": "python",
     "metadata": {},
     "outputs": [],
     "prompt_number": 2
    },
    {
     "cell_type": "code",
     "collapsed": false,
     "input": [
      "n.start()"
     ],
     "language": "python",
     "metadata": {},
     "outputs": [
      {
       "output_type": "stream",
       "stream": "stdout",
       "text": [
        "waiting 1s\n"
       ]
      },
      {
       "output_type": "stream",
       "stream": "stdout",
       "text": [
        "waiting 1s\n",
        "waiting 1s\n"
       ]
      }
     ],
     "prompt_number": 3
    },
    {
     "cell_type": "code",
     "collapsed": false,
     "input": [],
     "language": "python",
     "metadata": {},
     "outputs": [
      {
       "output_type": "stream",
       "stream": "stdout",
       "text": [
        "waiting 1s\n"
       ]
      },
      {
       "output_type": "stream",
       "stream": "stdout",
       "text": [
        "waiting 1s\n",
        "waiting 1s\n"
       ]
      },
      {
       "output_type": "stream",
       "stream": "stdout",
       "text": [
        "waiting 1s\n",
        "waiting 1s\n"
       ]
      },
      {
       "output_type": "stream",
       "stream": "stdout",
       "text": [
        "waiting 1s\n",
        "waiting 1s\n"
       ]
      }
     ],
     "prompt_number": 3
    },
    {
     "cell_type": "code",
     "collapsed": false,
     "input": [],
     "language": "python",
     "metadata": {},
     "outputs": [
      {
       "output_type": "stream",
       "stream": "stdout",
       "text": [
        "Done\n"
       ]
      }
     ],
     "prompt_number": 3
    },
    {
     "cell_type": "code",
     "collapsed": false,
     "input": [],
     "language": "python",
     "metadata": {},
     "outputs": [],
     "prompt_number": 3
    },
    {
     "cell_type": "code",
     "collapsed": false,
     "input": [],
     "language": "python",
     "metadata": {},
     "outputs": []
    }
   ],
   "metadata": {}
  }
 ]
}