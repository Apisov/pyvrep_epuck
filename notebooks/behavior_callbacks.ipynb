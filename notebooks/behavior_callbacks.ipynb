{
 "cells": [
  {
   "cell_type": "code",
   "execution_count": 1,
   "metadata": {
    "collapsed": false
   },
   "outputs": [],
   "source": [
    "# necessary stuff to set the paths:\n",
    "import sys\n",
    "sys.path.append(\"..\")\n",
    "\n",
    "# Import and create the connection to the simulator:\n",
    "from vrep.simulator import Simulator\n",
    "simulator = Simulator()\n",
    "\n",
    "# connect to the E-puck robot of the running V-REP scene\n",
    "epuck = simulator.get_epuck()\n",
    "\n",
    "# Start the simulator (equivalent to pressing the \"play\" button in vrep). To stop it, replace \"start\" by \"stop\"\n",
    "simulator.start()"
   ]
  },
  {
   "cell_type": "code",
   "execution_count": 2,
   "metadata": {
    "collapsed": false
   },
   "outputs": [
    {
     "data": {
      "text/plain": [
       "False"
      ]
     },
     "execution_count": 2,
     "metadata": {},
     "output_type": "execute_result"
    }
   ],
   "source": [
    "epuck.detect_object(\"Cup\", group=\"rear\")"
   ]
  },
  {
   "cell_type": "code",
   "execution_count": 3,
   "metadata": {
    "collapsed": false
   },
   "outputs": [
    {
     "data": {
      "text/plain": [
       "{'all': [0, 1, 2, 3, 4, 5, 6, 7],\n",
       " 'all-but-rear': [0, 1, 2, 3, 4, 5],\n",
       " 'front': [2, 3],\n",
       " 'front-left': [0, 1, 2],\n",
       " 'front-right': [3, 4, 5],\n",
       " 'rear': [6, 7]}"
      ]
     },
     "execution_count": 3,
     "metadata": {},
     "output_type": "execute_result"
    }
   ],
   "source": [
    "epuck._prox_aliases"
   ]
  },
  {
   "cell_type": "code",
   "execution_count": 14,
   "metadata": {
    "collapsed": false
   },
   "outputs": [
    {
     "name": "stdout",
     "output_type": "stream",
     "text": [
      "1\n"
     ]
    }
   ],
   "source": [
    "d = {}\n",
    "d[\"a\"] = 1\n",
    "d.values?\n",
    "for v in d.values():\n",
    "    print v"
   ]
  },
  {
   "cell_type": "code",
   "execution_count": 4,
   "metadata": {
    "collapsed": false
   },
   "outputs": [
    {
     "data": {
      "text/plain": [
       "{13: 'ResizableFloor_5_25_element',\n",
       " 14: 'ResizableFloor_5_25_visibleElement',\n",
       " 15: 'ePuck',\n",
       " 17: 'ePuck_rightRespondableWheel',\n",
       " 18: 'ePuck_rightWheelPart',\n",
       " 19: 'ePuck_rightWheel',\n",
       " 21: 'ePuck_leftRespondableWheel',\n",
       " 22: 'ePuck_leftWheelPart',\n",
       " 23: 'ePuck_leftWheel',\n",
       " 25: 'ePuck_frontRespondableSlider',\n",
       " 27: 'ePuck_rearRespondableSlider',\n",
       " 28: 'ePuck_bodyElements',\n",
       " 39: 'ePuck_PCB2',\n",
       " 41: 'ePuck_PCB1',\n",
       " 42: 'ePuck_ring',\n",
       " 43: 'ePuck_transparentBody',\n",
       " 46: 'ePuck_topPart',\n",
       " 48: '20cmHighWall_L',\n",
       " 49: '20cmHighWall_L_visible',\n",
       " 50: '20cmHighWall_L0',\n",
       " 51: '20cmHighWall_L_visible0',\n",
       " 52: '20cmHighWall_L2',\n",
       " 53: '20cmHighWall_L_visible2',\n",
       " 54: '20cmHighWall_L3',\n",
       " 55: '20cmHighWall_L_visible3',\n",
       " 56: '20cmHighWall100cm1',\n",
       " 57: '20cmHighWall100cm_visible1',\n",
       " 58: '20cmHighWall100cm2',\n",
       " 59: '20cmHighWall100cm_visible2',\n",
       " 60: '20cmHighWall100cm0',\n",
       " 61: '20cmHighWall100cm_visible0',\n",
       " 62: '20cmHighWall100cm',\n",
       " 63: '20cmHighWall100cm_visible',\n",
       " 66: '20cmHighPillar10cm',\n",
       " 67: '20cmHighPillar10cm_visible',\n",
       " 68: '20cmHighPillar10cm0',\n",
       " 69: '20cmHighPillar10cm_visible0',\n",
       " 70: '20cmHighPillar10cm1',\n",
       " 71: '20cmHighPillar10cm_visible1',\n",
       " 72: '20cmHighPillar10cm2',\n",
       " 73: '20cmHighPillar10cm_visible2',\n",
       " 74: '20cmHighPillar10cm3',\n",
       " 75: '20cmHighPillar10cm_visible3',\n",
       " 76: '20cmHighPillar10cm4',\n",
       " 77: '20cmHighPillar10cm_visible4',\n",
       " 78: '20cmHighPillar10cm5',\n",
       " 79: '20cmHighPillar10cm_visible5',\n",
       " 80: 'Cup',\n",
       " 81: 'Cup_visible_top',\n",
       " 82: 'Cup_visible_transparent',\n",
       " 83: 'Cup_visible_bkfCulled',\n",
       " 84: 'Cup0',\n",
       " 85: 'Cup_visible_top0',\n",
       " 86: 'Cup_visible_transparent0',\n",
       " 87: 'Cup_visible_bkfCulled0',\n",
       " 88: 'Cup1',\n",
       " 89: 'Cup_visible_top1',\n",
       " 90: 'Cup_visible_transparent1',\n",
       " 91: 'Cup_visible_bkfCulled1',\n",
       " 92: 'Cup2',\n",
       " 93: 'Cup_visible_top2',\n",
       " 94: 'Cup_visible_transparent2',\n",
       " 95: 'Cup_visible_bkfCulled2',\n",
       " 96: 'Cup3',\n",
       " 97: 'Cup_visible_top3',\n",
       " 98: 'Cup_visible_transparent3',\n",
       " 99: 'Cup_visible_bkfCulled3',\n",
       " 100: 'Cup4',\n",
       " 101: 'Cup_visible_top4',\n",
       " 102: 'Cup_visible_transparent4',\n",
       " 103: 'Cup_visible_bkfCulled4',\n",
       " 104: 'Cup5',\n",
       " 105: 'Cup_visible_top5',\n",
       " 106: 'Cup_visible_transparent5',\n",
       " 107: 'Cup_visible_bkfCulled5',\n",
       " 108: '20cmHighPillar10cm7',\n",
       " 109: '20cmHighPillar10cm_visible7',\n",
       " 110: '20cmHighPillar10cm8',\n",
       " 111: '20cmHighPillar10cm_visible8',\n",
       " 112: '20cmHighPillar10cm9',\n",
       " 113: '20cmHighPillar10cm_visible9',\n",
       " 114: '20cmHighPillar10cm10',\n",
       " 115: '20cmHighPillar10cm11',\n",
       " 116: '20cmHighPillar10cm12',\n",
       " 117: '20cmHighPillar10cm13',\n",
       " 118: '20cmHighPillar10cm_visible10',\n",
       " 119: '20cmHighPillar10cm_visible11',\n",
       " 120: '20cmHighPillar10cm_visible12',\n",
       " 121: '20cmHighPillar10cm_visible13',\n",
       " 122: 'Cup6',\n",
       " 123: 'Cup7',\n",
       " 124: 'Cup8',\n",
       " 125: 'Cup9',\n",
       " 126: 'Cup10',\n",
       " 127: 'Cup_visible_top6',\n",
       " 128: 'Cup_visible_transparent6',\n",
       " 129: 'Cup_visible_bkfCulled6',\n",
       " 130: 'Cup_visible_top7',\n",
       " 131: 'Cup_visible_transparent7',\n",
       " 132: 'Cup_visible_bkfCulled7',\n",
       " 133: 'Cup_visible_top8',\n",
       " 134: 'Cup_visible_transparent8',\n",
       " 135: 'Cup_visible_bkfCulled8',\n",
       " 136: 'Cup_visible_top9',\n",
       " 137: 'Cup_visible_transparent9',\n",
       " 138: 'Cup_visible_bkfCulled9',\n",
       " 139: 'Cup_visible_top10',\n",
       " 140: 'Cup_visible_transparent10',\n",
       " 141: 'Cup_visible_bkfCulled10',\n",
       " 142: 'Cup11',\n",
       " 143: 'Cup12',\n",
       " 144: 'Cup13',\n",
       " 145: 'Cup14',\n",
       " 146: 'Cup15',\n",
       " 147: 'Cup_visible_top11',\n",
       " 148: 'Cup_visible_transparent11',\n",
       " 149: 'Cup_visible_bkfCulled11',\n",
       " 150: 'Cup_visible_top12',\n",
       " 151: 'Cup_visible_transparent12',\n",
       " 152: 'Cup_visible_bkfCulled12',\n",
       " 153: 'Cup_visible_top13',\n",
       " 154: 'Cup_visible_transparent13',\n",
       " 155: 'Cup_visible_bkfCulled13',\n",
       " 156: 'Cup_visible_top14',\n",
       " 157: 'Cup_visible_transparent14',\n",
       " 158: 'Cup_visible_bkfCulled14',\n",
       " 159: 'Cup_visible_top15',\n",
       " 160: 'Cup_visible_transparent15',\n",
       " 161: 'Cup_visible_bkfCulled15'}"
      ]
     },
     "execution_count": 4,
     "metadata": {},
     "output_type": "execute_result"
    }
   ],
   "source": [
    "epuck._registered_objects"
   ]
  },
  {
   "cell_type": "code",
   "execution_count": 5,
   "metadata": {
    "collapsed": false
   },
   "outputs": [
    {
     "data": {
      "text/plain": [
       "(array([ 2000.        ,  2000.        ,  2000.        ,  1823.19448187,\n",
       "         1704.91135772,  1963.75107951,  1640.58483822,  2000.        ]),\n",
       " array(['None', 'None', 'None', '20cmHighWall100cm', '20cmHighWall100cm',\n",
       "        '20cmHighWall100cm2', '20cmHighWall100cm2', 'None'], \n",
       "       dtype='|S18'))"
      ]
     },
     "execution_count": 5,
     "metadata": {},
     "output_type": "execute_result"
    }
   ],
   "source": [
    "epuck.proximeters(mode=\"obj\")"
   ]
  },
  {
   "cell_type": "code",
   "execution_count": 6,
   "metadata": {
    "collapsed": true
   },
   "outputs": [],
   "source": [
    "from numpy import argmin\n",
    "from numpy.random import rand\n",
    "\n",
    "    \n",
    "def random_movement():\n",
    "    # fwd_spd = robot.last_fwd_spd + (2 * rand() - 1) * 0.1\n",
    "    epuck.fwd_spd = 0.1 # max(-0.05, fwd_spd)\n",
    "    rot_spd = epuck.rot_spd + (2 * rand() - 1) * 0.1\n",
    "    epuck.rot_spd = max(-1., min(rot_spd, 1.))\n",
    "    #robot.move(fwd_spd, rot_spd)\n",
    "    \n",
    "    \n",
    "def line_following():\n",
    "    epuck.fwd_spd = 0.02\n",
    "    left, middle, right = epuck.floor_sensor()\n",
    "    rot = int(left) - int(right)\n",
    "    epuck.rot_spd = rot / 2.\n",
    "    # robot.wait(0.2)   \n",
    "    \n",
    "def obstacle_avoidance():\n",
    "    idx = epuck.min_index()\n",
    "    angle = (idx - 3.5) / 2.\n",
    "    epuck.rot_spd = angle\n",
    "    \n",
    "def object_pushing():\n",
    "    idx = epuck.min_index()\n",
    "    angle = (idx - 3.5) / 2.\n",
    "    epuck.rot_spd = - angle  "
   ]
  },
  {
   "cell_type": "code",
   "execution_count": 7,
   "metadata": {
    "collapsed": false
   },
   "outputs": [
    {
     "ename": "KeyboardInterrupt",
     "evalue": "",
     "output_type": "error",
     "traceback": [
      "\u001b[1;31m---------------------------------------------------------------------------\u001b[0m",
      "\u001b[1;31mKeyboardInterrupt\u001b[0m                         Traceback (most recent call last)",
      "\u001b[1;32m<ipython-input-7-ae21463c6e23>\u001b[0m in \u001b[0;36m<module>\u001b[1;34m()\u001b[0m\n\u001b[0;32m      1\u001b[0m \u001b[0mt_push\u001b[0m \u001b[1;33m=\u001b[0m \u001b[0mepuck\u001b[0m\u001b[1;33m.\u001b[0m\u001b[0msimulation_time\u001b[0m\u001b[1;33m(\u001b[0m\u001b[1;33m)\u001b[0m\u001b[1;33m\u001b[0m\u001b[0m\n\u001b[0;32m      2\u001b[0m \u001b[1;32mwhile\u001b[0m \u001b[0mTrue\u001b[0m\u001b[1;33m:\u001b[0m\u001b[1;33m\u001b[0m\u001b[0m\n\u001b[1;32m----> 3\u001b[1;33m     \u001b[1;32mif\u001b[0m \u001b[0mepuck\u001b[0m\u001b[1;33m.\u001b[0m\u001b[0mmin_distance_to_object\u001b[0m\u001b[1;33m(\u001b[0m\u001b[1;34m\"20cmHigh\"\u001b[0m\u001b[1;33m)\u001b[0m \u001b[1;33m<\u001b[0m \u001b[1;36m300\u001b[0m\u001b[1;33m:\u001b[0m\u001b[1;33m\u001b[0m\u001b[0m\n\u001b[0m\u001b[0;32m      4\u001b[0m         \u001b[0mobstacle_avoidance\u001b[0m\u001b[1;33m(\u001b[0m\u001b[1;33m)\u001b[0m\u001b[1;33m\u001b[0m\u001b[0m\n\u001b[0;32m      5\u001b[0m     \u001b[1;32melif\u001b[0m \u001b[0mepuck\u001b[0m\u001b[1;33m.\u001b[0m\u001b[0mmin_distance_to_object\u001b[0m\u001b[1;33m(\u001b[0m\u001b[1;34m\"Cup\"\u001b[0m\u001b[1;33m)\u001b[0m \u001b[1;33m<\u001b[0m \u001b[1;36m800\u001b[0m\u001b[1;33m:\u001b[0m\u001b[1;33m\u001b[0m\u001b[0m\n",
      "\u001b[1;32m/home/clement/work/SPECS/dev/pyvrep-epuck/robots/epuck.py\u001b[0m in \u001b[0;36mmin_distance_to_object\u001b[1;34m(self, name, group)\u001b[0m\n\u001b[0;32m    231\u001b[0m         \u001b[0mdists\u001b[0m \u001b[1;33m=\u001b[0m \u001b[0mself\u001b[0m\u001b[1;33m.\u001b[0m\u001b[0mno_detection_value\u001b[0m \u001b[1;33m*\u001b[0m \u001b[0mones\u001b[0m\u001b[1;33m(\u001b[0m\u001b[1;36m8\u001b[0m\u001b[1;33m)\u001b[0m\u001b[1;33m\u001b[0m\u001b[0m\n\u001b[0;32m    232\u001b[0m         \u001b[0mobjs\u001b[0m \u001b[1;33m=\u001b[0m \u001b[0marray\u001b[0m\u001b[1;33m(\u001b[0m\u001b[1;33m[\u001b[0m\u001b[1;34m\"None\"\u001b[0m\u001b[1;33m]\u001b[0m \u001b[1;33m*\u001b[0m \u001b[1;36m8\u001b[0m\u001b[1;33m,\u001b[0m \u001b[0mdtype\u001b[0m\u001b[1;33m=\u001b[0m\u001b[1;34m'|S400'\u001b[0m\u001b[1;33m)\u001b[0m\u001b[1;33m\u001b[0m\u001b[0m\n\u001b[1;32m--> 233\u001b[1;33m         \u001b[0mdists\u001b[0m\u001b[1;33m[\u001b[0m\u001b[0mself\u001b[0m\u001b[1;33m.\u001b[0m\u001b[0m_prox_aliases\u001b[0m\u001b[1;33m[\u001b[0m\u001b[0mgroup\u001b[0m\u001b[1;33m]\u001b[0m\u001b[1;33m]\u001b[0m\u001b[1;33m,\u001b[0m \u001b[0mobjs\u001b[0m\u001b[1;33m[\u001b[0m\u001b[0mself\u001b[0m\u001b[1;33m.\u001b[0m\u001b[0m_prox_aliases\u001b[0m\u001b[1;33m[\u001b[0m\u001b[0mgroup\u001b[0m\u001b[1;33m]\u001b[0m\u001b[1;33m]\u001b[0m \u001b[1;33m=\u001b[0m \u001b[0mself\u001b[0m\u001b[1;33m.\u001b[0m\u001b[0mproximeters\u001b[0m\u001b[1;33m(\u001b[0m\u001b[0mgroup\u001b[0m\u001b[1;33m=\u001b[0m\u001b[0mgroup\u001b[0m\u001b[1;33m,\u001b[0m \u001b[0mmode\u001b[0m\u001b[1;33m=\u001b[0m\u001b[1;34m\"obj\"\u001b[0m\u001b[1;33m)\u001b[0m\u001b[1;33m\u001b[0m\u001b[0m\n\u001b[0m\u001b[0;32m    234\u001b[0m         \u001b[0mmin_dist\u001b[0m \u001b[1;33m=\u001b[0m \u001b[1;36m1e10\u001b[0m\u001b[1;33m;\u001b[0m\u001b[1;33m\u001b[0m\u001b[0m\n\u001b[0;32m    235\u001b[0m         \u001b[1;32mfor\u001b[0m \u001b[0mi\u001b[0m\u001b[1;33m,\u001b[0m \u001b[0md\u001b[0m\u001b[1;33m,\u001b[0m \u001b[0mo\u001b[0m \u001b[1;32min\u001b[0m \u001b[0msample\u001b[0m\u001b[1;33m(\u001b[0m\u001b[0mzip\u001b[0m\u001b[1;33m(\u001b[0m\u001b[0mrange\u001b[0m\u001b[1;33m(\u001b[0m\u001b[1;36m8\u001b[0m\u001b[1;33m)\u001b[0m\u001b[1;33m,\u001b[0m \u001b[0mdists\u001b[0m\u001b[1;33m,\u001b[0m \u001b[0mobjs\u001b[0m\u001b[1;33m)\u001b[0m\u001b[1;33m,\u001b[0m \u001b[1;36m8\u001b[0m\u001b[1;33m)\u001b[0m\u001b[1;33m:\u001b[0m\u001b[1;33m\u001b[0m\u001b[0m\n",
      "\u001b[1;32m/home/clement/work/SPECS/dev/pyvrep-epuck/robots/epuck.py\u001b[0m in \u001b[0;36mproximeters\u001b[1;34m(self, group, mode)\u001b[0m\n\u001b[0;32m    157\u001b[0m             \u001b[0mres\u001b[0m\u001b[1;33m,\u001b[0m \u001b[0mdetectionState\u001b[0m\u001b[1;33m,\u001b[0m \u001b[0mdetectedPoint\u001b[0m\u001b[1;33m,\u001b[0m \u001b[0mdetectedObjectHandle\u001b[0m\u001b[1;33m,\u001b[0m \u001b[0mdetectedSurfaceNormalVector\u001b[0m \u001b[1;33m=\u001b[0m \u001b[0mvrep\u001b[0m\u001b[1;33m.\u001b[0m\u001b[0msimxReadProximitySensor\u001b[0m\u001b[1;33m(\u001b[0m\u001b[0mself\u001b[0m\u001b[1;33m.\u001b[0m\u001b[0m_clientID\u001b[0m\u001b[1;33m,\u001b[0m \u001b[0mself\u001b[0m\u001b[1;33m.\u001b[0m\u001b[0m_prox_handles\u001b[0m\u001b[1;33m[\u001b[0m\u001b[0mi\u001b[0m\u001b[1;33m]\u001b[0m\u001b[1;33m,\u001b[0m \u001b[0mvrep\u001b[0m\u001b[1;33m.\u001b[0m\u001b[0msimx_opmode_buffer\u001b[0m\u001b[1;33m)\u001b[0m\u001b[1;33m\u001b[0m\u001b[0m\n\u001b[0;32m    158\u001b[0m             \u001b[1;32mif\u001b[0m \u001b[0mdetectionState\u001b[0m\u001b[1;33m:\u001b[0m\u001b[1;33m\u001b[0m\u001b[0m\n\u001b[1;32m--> 159\u001b[1;33m                 \u001b[0mdistances\u001b[0m\u001b[1;33m.\u001b[0m\u001b[0mappend\u001b[0m\u001b[1;33m(\u001b[0m\u001b[1;36m1000\u001b[0m \u001b[1;33m*\u001b[0m \u001b[0msqrt\u001b[0m\u001b[1;33m(\u001b[0m\u001b[0msum\u001b[0m\u001b[1;33m(\u001b[0m\u001b[1;33m[\u001b[0m\u001b[0mx\u001b[0m \u001b[1;33m**\u001b[0m \u001b[1;36m2\u001b[0m \u001b[1;32mfor\u001b[0m \u001b[0mx\u001b[0m \u001b[1;32min\u001b[0m \u001b[0mdetectedPoint\u001b[0m\u001b[1;33m]\u001b[0m\u001b[1;33m)\u001b[0m\u001b[1;33m)\u001b[0m\u001b[1;33m)\u001b[0m\u001b[1;33m\u001b[0m\u001b[0m\n\u001b[0m\u001b[0;32m    160\u001b[0m                 \u001b[1;32mif\u001b[0m \u001b[1;33m(\u001b[0m\u001b[0mdetectedObjectHandle\u001b[0m \u001b[1;33m-\u001b[0m \u001b[1;36m1\u001b[0m\u001b[1;33m)\u001b[0m \u001b[1;32min\u001b[0m \u001b[0mself\u001b[0m\u001b[1;33m.\u001b[0m\u001b[0m_registered_objects\u001b[0m\u001b[1;33m:\u001b[0m\u001b[1;33m\u001b[0m\u001b[0m\n\u001b[0;32m    161\u001b[0m                     \u001b[0mobjects\u001b[0m\u001b[1;33m.\u001b[0m\u001b[0mappend\u001b[0m\u001b[1;33m(\u001b[0m\u001b[0mself\u001b[0m\u001b[1;33m.\u001b[0m\u001b[0m_registered_objects\u001b[0m\u001b[1;33m[\u001b[0m\u001b[0mdetectedObjectHandle\u001b[0m \u001b[1;33m-\u001b[0m \u001b[1;36m1\u001b[0m\u001b[1;33m]\u001b[0m\u001b[1;33m)\u001b[0m\u001b[1;33m\u001b[0m\u001b[0m\n",
      "\u001b[1;31mKeyboardInterrupt\u001b[0m: "
     ]
    }
   ],
   "source": [
    "t_push = epuck.simulation_time()\n",
    "while True:\n",
    "    if epuck.min_distance_to_object(\"20cmHigh\") < 300:\n",
    "        obstacle_avoidance()    \n",
    "    elif epuck.min_distance_to_object(\"Cup\") < 800:\n",
    "        object_pushing()\n",
    "    elif any(epuck.floor_sensor()):\n",
    "        line_following()\n",
    "    else:\n",
    "        random_movement()"
   ]
  },
  {
   "cell_type": "code",
   "execution_count": null,
   "metadata": {
    "collapsed": false
   },
   "outputs": [],
   "source": [
    "epuck.register_all_scene_objects()"
   ]
  },
  {
   "cell_type": "code",
   "execution_count": null,
   "metadata": {
    "collapsed": false
   },
   "outputs": [],
   "source": [
    "dists, objs = epuck.proximeters(group=\"all\", mode=\"obj\")"
   ]
  },
  {
   "cell_type": "code",
   "execution_count": null,
   "metadata": {
    "collapsed": false
   },
   "outputs": [],
   "source": [
    "dists, objs"
   ]
  },
  {
   "cell_type": "code",
   "execution_count": null,
   "metadata": {
    "collapsed": false
   },
   "outputs": [],
   "source": [
    "objs[epuck._prox_aliases[group]]"
   ]
  },
  {
   "cell_type": "code",
   "execution_count": null,
   "metadata": {
    "collapsed": false
   },
   "outputs": [],
   "source": [
    "from numpy import array, ones\n",
    "from random import sample\n",
    "name = 'Cup'\n",
    "group=\"all-but-rear\"\n",
    "proxs = epuck.no_detection_value * ones(8)\n",
    "objs = array([\"None\"] * 8, dtype='|S400')\n",
    "dists[epuck._prox_aliases[group]], objs[epuck._prox_aliases[group]] = epuck.proximeters(group=group, mode=\"obj\")\n",
    "print dists\n",
    "print objs\n",
    "for i, d, o in sample(zip(range(8), dists, objs), 8):\n",
    "    if o.startswith(name):\n",
    "        print i, d\n",
    "        "
   ]
  },
  {
   "cell_type": "code",
   "execution_count": null,
   "metadata": {
    "collapsed": false
   },
   "outputs": [],
   "source": [
    "x = array([\"None\"]) #, dtype='|S100')"
   ]
  },
  {
   "cell_type": "code",
   "execution_count": null,
   "metadata": {
    "collapsed": false
   },
   "outputs": [],
   "source": [
    "x[0] = \"njfnjefninef\""
   ]
  },
  {
   "cell_type": "code",
   "execution_count": null,
   "metadata": {
    "collapsed": false
   },
   "outputs": [],
   "source": [
    "x"
   ]
  },
  {
   "cell_type": "code",
   "execution_count": null,
   "metadata": {
    "collapsed": false
   },
   "outputs": [],
   "source": [
    "epuck.fwd_spd = 0.02\n",
    "while True:\n",
    "    left, middle, right = epuck.floor_sensor()\n",
    "    rot = int(left) - int(right)\n",
    "    print rot\n",
    "    epuck.rot_spd = rot / 2.\n",
    "    epuck.wait(0.2)"
   ]
  },
  {
   "cell_type": "code",
   "execution_count": null,
   "metadata": {
    "collapsed": false
   },
   "outputs": [],
   "source": [
    "epuck.floor_sensor()"
   ]
  },
  {
   "cell_type": "code",
   "execution_count": null,
   "metadata": {
    "collapsed": false
   },
   "outputs": [],
   "source": [
    "%pylab inline"
   ]
  },
  {
   "cell_type": "code",
   "execution_count": null,
   "metadata": {
    "collapsed": false
   },
   "outputs": [],
   "source": [
    "from numpy import ones\n",
    "ones(5)[(2, 3)]"
   ]
  },
  {
   "cell_type": "code",
   "execution_count": null,
   "metadata": {
    "collapsed": false
   },
   "outputs": [],
   "source": [
    "epuck.fwd_spd =0.04\n",
    "epuck.rot_spd = 0.1"
   ]
  },
  {
   "cell_type": "code",
   "execution_count": null,
   "metadata": {
    "collapsed": false
   },
   "outputs": [],
   "source": [
    "img = epuck.light_sensor_image()\n",
    "imshow(img)"
   ]
  },
  {
   "cell_type": "code",
   "execution_count": null,
   "metadata": {
    "collapsed": false
   },
   "outputs": [],
   "source": [
    "import sys\n",
    "sys.path.append(\"..\")\n",
    "from vrep.simulator import Simulator"
   ]
  },
  {
   "cell_type": "code",
   "execution_count": null,
   "metadata": {
    "collapsed": false
   },
   "outputs": [],
   "source": [
    "simulator = Simulator()\n"
   ]
  },
  {
   "cell_type": "code",
   "execution_count": null,
   "metadata": {
    "collapsed": false
   },
   "outputs": [],
   "source": [
    "for suffix in [\"\"] + [\"#\" + str(i) for i in range(4)]:\n",
    "    simulator.get_epuck(suffix)"
   ]
  },
  {
   "cell_type": "code",
   "execution_count": null,
   "metadata": {
    "collapsed": false
   },
   "outputs": [],
   "source": [
    "simulator.start()"
   ]
  },
  {
   "cell_type": "code",
   "execution_count": 16,
   "metadata": {
    "collapsed": false
   },
   "outputs": [
    {
     "name": "stdout",
     "output_type": "stream",
     "text": [
      "2\n"
     ]
    }
   ],
   "source": [
    "if 0.01:\n",
    "    print 2"
   ]
  },
  {
   "cell_type": "code",
   "execution_count": null,
   "metadata": {
    "collapsed": false
   },
   "outputs": [],
   "source": [
    "epuck2 = simulator.get_epuck(\"\")"
   ]
  },
  {
   "cell_type": "code",
   "execution_count": null,
   "metadata": {
    "collapsed": false
   },
   "outputs": [],
   "source": [
    "epuck.stop()\n",
    "epuck.start()"
   ]
  },
  {
   "cell_type": "code",
   "execution_count": null,
   "metadata": {
    "collapsed": false
   },
   "outputs": [],
   "source": [
    "epuck2.left_spd -= 0.2"
   ]
  },
  {
   "cell_type": "code",
   "execution_count": null,
   "metadata": {
    "collapsed": false
   },
   "outputs": [],
   "source": [
    "epuck.right_spd = -0.8499999999999999"
   ]
  },
  {
   "cell_type": "code",
   "execution_count": null,
   "metadata": {
    "collapsed": false
   },
   "outputs": [],
   "source": [
    "epuck.fwd_spd, epuck.rot_spd = 0.6, 0.6"
   ]
  },
  {
   "cell_type": "code",
   "execution_count": null,
   "metadata": {
    "collapsed": false
   },
   "outputs": [],
   "source": [
    "epuck.fwd_spd = 0."
   ]
  },
  {
   "cell_type": "code",
   "execution_count": null,
   "metadata": {
    "collapsed": false
   },
   "outputs": [],
   "source": [
    "epuck.left_spd, epuck.right_spd, epuck.fwd_spd, epuck.rot_spd"
   ]
  },
  {
   "cell_type": "code",
   "execution_count": null,
   "metadata": {
    "collapsed": false
   },
   "outputs": [],
   "source": [
    "import os\n",
    "os.chdir(\"notebooks\")"
   ]
  },
  {
   "cell_type": "code",
   "execution_count": null,
   "metadata": {
    "collapsed": true
   },
   "outputs": [],
   "source": [
    "from vrep import vrep"
   ]
  },
  {
   "cell_type": "code",
   "execution_count": null,
   "metadata": {
    "collapsed": false
   },
   "outputs": [],
   "source": [
    "epuck.register_all_scene_objects()"
   ]
  },
  {
   "cell_type": "code",
   "execution_count": null,
   "metadata": {
    "collapsed": false
   },
   "outputs": [],
   "source": [
    "epuck.proximeters(mode=\"obj\")"
   ]
  },
  {
   "cell_type": "code",
   "execution_count": null,
   "metadata": {
    "collapsed": false
   },
   "outputs": [],
   "source": [
    "res, handles,_ , _,names = vrep.simxGetObjectGroupData(epuck._clientID, vrep.sim_object_shape_type, 0, vrep.simx_opmode_streaming)"
   ]
  },
  {
   "cell_type": "code",
   "execution_count": null,
   "metadata": {
    "collapsed": false
   },
   "outputs": [],
   "source": [
    "len(handles)"
   ]
  },
  {
   "cell_type": "code",
   "execution_count": null,
   "metadata": {
    "collapsed": true
   },
   "outputs": [],
   "source": [
    "for n in names:\n",
    "    epuck.register_object(n)"
   ]
  },
  {
   "cell_type": "code",
   "execution_count": null,
   "metadata": {
    "collapsed": false
   },
   "outputs": [],
   "source": [
    "vrep.simxReadProximitySensor(epuck._clientID, epuck._prox_handles[3], vrep.simx_opmode_buffer)"
   ]
  },
  {
   "cell_type": "code",
   "execution_count": null,
   "metadata": {
    "collapsed": true
   },
   "outputs": [],
   "source": [
    "x = [\"1\", \"2\", \"3\"]"
   ]
  },
  {
   "cell_type": "code",
   "execution_count": 14,
   "metadata": {
    "collapsed": false
   },
   "outputs": [
    {
     "data": {
      "text/plain": [
       "[(3, 1839.6691439656411), (4, 1573.8740702112773), (6, 1576.6233909256957)]"
      ]
     },
     "execution_count": 14,
     "metadata": {},
     "output_type": "execute_result"
    }
   ],
   "source": [
    "distances, objects = epuck.proximeters(mode=\"id\")\n",
    "[(i, d) for i, (d, o) in enumerate(zip(distances, objects)) if \"20cmHighWall\" in o]"
   ]
  },
  {
   "cell_type": "code",
   "execution_count": 15,
   "metadata": {
    "collapsed": false
   },
   "outputs": [
    {
     "data": {
      "text/plain": [
       "(array([ 1385.16622091,  2000.        ,  2000.        ,  1838.9228775 ,\n",
       "         1574.62834537,  2000.        ,  1578.80999505,  2000.        ]),\n",
       " array(['Cup_visible_transparent15', 'None', 'None', '20cmHighWall100cm',\n",
       "        '20cmHighWall100cm', 'None', '20cmHighWall100cm2', 'None'], \n",
       "       dtype='|S25'))"
      ]
     },
     "execution_count": 15,
     "metadata": {},
     "output_type": "execute_result"
    }
   ],
   "source": [
    "epuck.proximeters(mode=\"id\")"
   ]
  },
  {
   "cell_type": "code",
   "execution_count": 1,
   "metadata": {
    "collapsed": false
   },
   "outputs": [],
   "source": [
    "# necessary stuff to set the paths:\n",
    "import sys\n",
    "sys.path.append(\"..\")\n",
    "\n",
    "# Import and create the connection to the simulator:\n",
    "from vrep.simulator import Simulator\n",
    "simulator = Simulator()\n",
    "\n",
    "# connect to the E-puck robot of the running V-REP scene\n",
    "epuck = simulator.get_epuck()\n",
    "\n",
    "# Start the simulator (equivalent to pressing the \"play\" button in vrep). To stop it, replace \"start\" by \"stop\"\n",
    "simulator.start()"
   ]
  },
  {
   "cell_type": "code",
   "execution_count": null,
   "metadata": {
    "collapsed": false
   },
   "outputs": [],
   "source": [
    "from numpy import argmin\n",
    "from numpy.random import rand\n",
    "\n",
    "def always(robot):\n",
    "    return True\n",
    "\n",
    "def something_close(robot):\n",
    "    return robot.is_min_distance(group=\"all-but-rear\", min_dist=500) \n",
    "\n",
    "def something_really_close(robot):\n",
    "    return robot.is_min_distance(group=\"front\", min_dist=300) \n",
    "\n",
    "def front_obstacle(robot):\n",
    "    return robot.is_min_distance(group=\"front\", min_dist=100)  \n",
    "\n",
    "def on_a_line(robot):\n",
    "    res = any(robot.floor_sensor())\n",
    "    return res\n",
    "\n",
    "def not_on_a_line(robot):\n",
    "    return not on_a_line(robot)\n",
    "\n",
    "def move_forward(robot):\n",
    "    robot.move(0.2)\n",
    "    \n",
    "def stop(robot):\n",
    "    robot.move(0.)\n",
    "    \n",
    "def rear(robot):\n",
    "    robot.fwd_spd = - 0.1\n",
    "    \n",
    "def random_movement(robot):\n",
    "    # fwd_spd = robot.last_fwd_spd + (2 * rand() - 1) * 0.1\n",
    "    robot.fwd_spd = 0.1 # max(-0.05, fwd_spd)\n",
    "    rot_spd = robot.rot_spd + (2 * rand() - 1) * 0.1\n",
    "    robot.rot_spd = max(-1., min(rot_spd, 1.))\n",
    "    #robot.move(fwd_spd, rot_spd)\n",
    "    \n",
    "def speed_distance(epuck):\n",
    "    distance = min(epuck.proximeters()[2:4])\n",
    "    epuck.fwd_spd = (distance - 100) / 2000.\n",
    "    \n",
    "def avoid_continuous(robot):\n",
    "    proxs = robot.proximeters(\"all-but-rear\")\n",
    "    proxs[proxs == 0.] = 2000\n",
    "    danger = argmin(proxs)\n",
    "    angle = danger - 2.5\n",
    "    robot.rot_spd = 1 / angle #angle / 6.\n",
    "\n",
    "    \n",
    "def line_following(robot):\n",
    "    robot.fwd_spd = 0.02\n",
    "    left, middle, right = robot.floor_sensor()\n",
    "    rot = int(left) - int(right)\n",
    "    robot.rot_spd = rot / 2.\n",
    "    # robot.wait(0.2)   \n",
    "    \n",
    "def obstacle_avoidance(robot):\n",
    "    idx = robot.min_index()\n",
    "    angle = (idx - 3.5) / 2.\n",
    "    robot.rot_spd = angle\n",
    "    \n",
    "def object_pushing(robot):\n",
    "    idx = robot.min_index()\n",
    "    angle = (idx - 3.5) / 2.\n",
    "    robot.rot_spd = - angle  "
   ]
  },
  {
   "cell_type": "code",
   "execution_count": null,
   "metadata": {
    "collapsed": false
   },
   "outputs": [],
   "source": [
    "epuck.proximeters(mode=\"obj\")"
   ]
  },
  {
   "cell_type": "code",
   "execution_count": null,
   "metadata": {
    "collapsed": false
   },
   "outputs": [],
   "source": [
    "for robot in simulator.robots:\n",
    "    robot.attach_behavior(random_movement, not_on_a_line)\n",
    "    robot.attach_behavior(rear, something_really_close)\n",
    "    robot.attach_behavior(avoid_continuous, something_close)\n",
    "    robot.attach_behavior(line_following, on_a_line)"
   ]
  },
  {
   "cell_type": "code",
   "execution_count": null,
   "metadata": {
    "collapsed": false
   },
   "outputs": [],
   "source": [
    "epuck._behaviors[\"line_following\"]._running.is_set()"
   ]
  },
  {
   "cell_type": "code",
   "execution_count": null,
   "metadata": {
    "collapsed": false
   },
   "outputs": [],
   "source": [
    "for robot in simulator.robots:\n",
    "    robot.start_all_behaviors()\n"
   ]
  },
  {
   "cell_type": "code",
   "execution_count": null,
   "metadata": {
    "collapsed": false
   },
   "outputs": [],
   "source": [
    "epuck.stop_behavior(\"random_movement\")"
   ]
  },
  {
   "cell_type": "code",
   "execution_count": null,
   "metadata": {
    "collapsed": true
   },
   "outputs": [],
   "source": [
    "epuck.attach_behavior(random_movement, not_on_a_line)"
   ]
  },
  {
   "cell_type": "code",
   "execution_count": null,
   "metadata": {
    "collapsed": true
   },
   "outputs": [],
   "source": [
    "epuck.start_behavior(\"random_movement\")"
   ]
  },
  {
   "cell_type": "code",
   "execution_count": null,
   "metadata": {
    "collapsed": false
   },
   "outputs": [],
   "source": [
    "res, resol, image = vrep.simxGetVisionSensorImage(epuck._clientID, epuck._light_sensor, options=0, operationMode=vrep.simx_opmode_buffer)"
   ]
  },
  {
   "cell_type": "code",
   "execution_count": null,
   "metadata": {
    "collapsed": false
   },
   "outputs": [],
   "source": [
    "import os\n",
    "os.system(\"beep -f 555 -l 460\")"
   ]
  },
  {
   "cell_type": "code",
   "execution_count": null,
   "metadata": {
    "collapsed": false
   },
   "outputs": [],
   "source": [
    "epuck.attach_behavior(avoid_continuous, something_close)"
   ]
  },
  {
   "cell_type": "code",
   "execution_count": null,
   "metadata": {
    "collapsed": false
   },
   "outputs": [],
   "source": [
    "def f(): return 1, 2"
   ]
  },
  {
   "cell_type": "code",
   "execution_count": null,
   "metadata": {
    "collapsed": false
   },
   "outputs": [],
   "source": [
    "a = f()"
   ]
  },
  {
   "cell_type": "code",
   "execution_count": null,
   "metadata": {
    "collapsed": false
   },
   "outputs": [],
   "source": [
    "epuck.start_behavior(\"avoid_continuous\")"
   ]
  },
  {
   "cell_type": "code",
   "execution_count": null,
   "metadata": {
    "collapsed": false
   },
   "outputs": [],
   "source": [
    "epuck.stop()"
   ]
  },
  {
   "cell_type": "code",
   "execution_count": null,
   "metadata": {
    "collapsed": false
   },
   "outputs": [],
   "source": [
    "epuck.start()"
   ]
  },
  {
   "cell_type": "code",
   "execution_count": null,
   "metadata": {
    "collapsed": false
   },
   "outputs": [],
   "source": [
    "epuck.start_behavior(\"avoid_continuous\")"
   ]
  },
  {
   "cell_type": "code",
   "execution_count": null,
   "metadata": {
    "collapsed": false
   },
   "outputs": [],
   "source": [
    "epuck.detach_behavior(\"avoid_continuous\")"
   ]
  },
  {
   "cell_type": "code",
   "execution_count": null,
   "metadata": {
    "collapsed": false
   },
   "outputs": [],
   "source": [
    "epuck.stop_behavior(\"move_forward\")"
   ]
  },
  {
   "cell_type": "code",
   "execution_count": null,
   "metadata": {
    "collapsed": false
   },
   "outputs": [],
   "source": [
    "epuck._behaviors"
   ]
  },
  {
   "cell_type": "code",
   "execution_count": null,
   "metadata": {
    "collapsed": false
   },
   "outputs": [],
   "source": []
  },
  {
   "cell_type": "code",
   "execution_count": null,
   "metadata": {
    "collapsed": false
   },
   "outputs": [],
   "source": []
  },
  {
   "cell_type": "code",
   "execution_count": null,
   "metadata": {
    "collapsed": false
   },
   "outputs": [],
   "source": [
    "from threading import Condition, Thread\n",
    "import time\n",
    "\n",
    "def waiter(cond):\n",
    "    cond.acquire()\n",
    "    print \"Waiting ...\"\n",
    "    cond.wait()\n",
    "    print \"Done\"\n",
    "    cond.release()\n",
    "    \n",
    "def notifier(cond):\n",
    "    cond.acquire()\n",
    "    for i in range(10):\n",
    "        print \"waiting 1s\"\n",
    "        time.sleep(1)\n",
    "    cond.notify()\n",
    "    cond.release()\n",
    "    \n",
    "condition = Condition()\n",
    "w = Thread(target=waiter, args=(condition,))\n",
    "n = Thread(target=notifier, args=(condition,))"
   ]
  },
  {
   "cell_type": "code",
   "execution_count": null,
   "metadata": {
    "collapsed": false
   },
   "outputs": [],
   "source": [
    "w.start()"
   ]
  },
  {
   "cell_type": "code",
   "execution_count": null,
   "metadata": {
    "collapsed": false
   },
   "outputs": [],
   "source": [
    "n.start()"
   ]
  },
  {
   "cell_type": "code",
   "execution_count": null,
   "metadata": {
    "collapsed": false
   },
   "outputs": [],
   "source": []
  },
  {
   "cell_type": "code",
   "execution_count": null,
   "metadata": {
    "collapsed": false
   },
   "outputs": [],
   "source": []
  },
  {
   "cell_type": "code",
   "execution_count": null,
   "metadata": {
    "collapsed": false
   },
   "outputs": [],
   "source": []
  },
  {
   "cell_type": "code",
   "execution_count": null,
   "metadata": {
    "collapsed": false
   },
   "outputs": [],
   "source": []
  }
 ],
 "metadata": {
  "kernelspec": {
   "display_name": "Python 2",
   "language": "python",
   "name": "python2"
  },
  "language_info": {
   "codemirror_mode": {
    "name": "ipython",
    "version": 2
   },
   "file_extension": ".py",
   "mimetype": "text/x-python",
   "name": "python",
   "nbconvert_exporter": "python",
   "pygments_lexer": "ipython2",
   "version": "2.7.12"
  }
 },
 "nbformat": 4,
 "nbformat_minor": 0
}
