{
 "cells": [
  {
   "cell_type": "markdown",
   "metadata": {},
   "source": [
    "# Dealing with several robots"
   ]
  },
  {
   "cell_type": "markdown",
   "metadata": {},
   "source": [
    "Open the `epuck.ttt` scene as usual and copy-paste the ePuck robot several times (let's have 5 ePucks in total). When you copy-paste an object in V-REP, the copy appears at the exact same place as the original, so you have to move it a bit. If you look at the scene hierarchy, you will see that the name of the original robot is `ePuck` and the names of the copies are `ePuck#0` ... `ePuck#3`."
   ]
  },
  {
   "cell_type": "markdown",
   "metadata": {},
   "source": [
    "Connect to the simulator as usual:"
   ]
  },
  {
   "cell_type": "code",
   "execution_count": null,
   "metadata": {
    "collapsed": false
   },
   "outputs": [],
   "source": [
    "# necessary stuff to set the paths:\n",
    "import sys\n",
    "sys.path.append(\"..\")\n",
    "\n",
    "# Import and create the connection to the simulator:\n",
    "from vrep.simulator import Simulator\n",
    "simulator = Simulator()"
   ]
  },
  {
   "cell_type": "markdown",
   "metadata": {},
   "source": [
    "Now let's get each of the ePucks as a Python object. To do so, we use `simulator.get_epuck()`. Without any argument (empty parentheses), it will return the first robot (the one named `ePuck`). Let's try it:"
   ]
  },
  {
   "cell_type": "code",
   "execution_count": null,
   "metadata": {
    "collapsed": false
   },
   "outputs": [],
   "source": [
    "epuck = simulator.get_epuck()"
   ]
  },
  {
   "cell_type": "markdown",
   "metadata": {},
   "source": [
    "Let's check it is working correctly. First start the simulator:"
   ]
  },
  {
   "cell_type": "code",
   "execution_count": null,
   "metadata": {
    "collapsed": false
   },
   "outputs": [],
   "source": [
    "simulator.start()"
   ]
  },
  {
   "cell_type": "markdown",
   "metadata": {},
   "source": [
    "Then send a command to the robot to see if it moves:"
   ]
  },
  {
   "cell_type": "code",
   "execution_count": null,
   "metadata": {
    "collapsed": false
   },
   "outputs": [],
   "source": [
    "epuck.rot_spd = 0.2"
   ]
  },
  {
   "cell_type": "markdown",
   "metadata": {},
   "source": [
    "To get another robot, we have to tell `simulator.get_epuck()` the suffix of its name. For example, the suffix of the robot named `ePuck#0` is `\"#0\"`, the suffix of `ePuck#1` is `\"#1\"`, etc...\n",
    "\n",
    "So, to get `ePuck#0` we write:"
   ]
  },
  {
   "cell_type": "code",
   "execution_count": null,
   "metadata": {
    "collapsed": false
   },
   "outputs": [],
   "source": [
    "another_epuck = simulator.get_epuck(\"#0\")"
   ]
  },
  {
   "cell_type": "markdown",
   "metadata": {},
   "source": [
    "Let's check if we can make it move as well:"
   ]
  },
  {
   "cell_type": "code",
   "execution_count": null,
   "metadata": {
    "collapsed": false
   },
   "outputs": [],
   "source": [
    "another_epuck.rot_spd = -0.2"
   ]
  },
  {
   "cell_type": "markdown",
   "metadata": {},
   "source": [
    "Note that `simulator` maintains an list of all the requested robots (not all the robots in the scene, only those who have been requested programatically):"
   ]
  },
  {
   "cell_type": "code",
   "execution_count": null,
   "metadata": {
    "collapsed": false
   },
   "outputs": [],
   "source": [
    "simulator.robots"
   ]
  },
  {
   "cell_type": "markdown",
   "metadata": {},
   "source": [
    "Above we see that `simulator.robots` contains two ePucks, in the order that we have requested them. Therefore, writing"
   ]
  },
  {
   "cell_type": "code",
   "execution_count": null,
   "metadata": {
    "collapsed": false
   },
   "outputs": [],
   "source": [
    "simulator.robots[0].rot_spd = 0.5"
   ]
  },
  {
   "cell_type": "markdown",
   "metadata": {},
   "source": [
    "is equivalent to write:"
   ]
  },
  {
   "cell_type": "code",
   "execution_count": null,
   "metadata": {
    "collapsed": false
   },
   "outputs": [],
   "source": [
    "epuck.rot_spd = 0.5"
   ]
  },
  {
   "cell_type": "markdown",
   "metadata": {},
   "source": [
    "The first notation can be useful if you want to perform the same operation on all the robots. For example, let's make them all rotate the same way:"
   ]
  },
  {
   "cell_type": "code",
   "execution_count": null,
   "metadata": {
    "collapsed": false
   },
   "outputs": [],
   "source": [
    "for robot in simulator.robots:\n",
    "    robot.rot_spd = 2."
   ]
  },
  {
   "cell_type": "markdown",
   "metadata": {},
   "source": [
    "Try to make the other ePucks move:"
   ]
  },
  {
   "cell_type": "code",
   "execution_count": null,
   "metadata": {
    "collapsed": false
   },
   "outputs": [],
   "source": [
    "# necessary stuff to set the paths:\n",
    "import sys\n",
    "sys.path.append(\"..\")\n",
    "\n",
    "# Import and create the connection to the simulator:\n",
    "from vrep.simulator import Simulator\n",
    "simulator = Simulator()\n",
    "\n",
    "r = simulator.get_epuck(\"#0\")\n",
    "x = simulator.get_epuck(\"#1\")\n",
    "\n",
    "from numpy.random import rand\n",
    "\n",
    "r.fwd_spd = 0.05\n",
    "x.fwd_spd = 0.05\n",
    " \n",
    "        \n",
    "# Function for moving forward:\n",
    "def move_forward(epuck):\n",
    "    epuck.rot_spd = 0.\n",
    "    \n",
    "def obstacle_avoidance(epuck):\n",
    "    if epuck.min_distance_to_object(\"20cmHigh\",group=\"front-left\")<epuck.min_distance_to_object(\"20cmHigh\",group=\"front-right\"):\n",
    "        epuck.rot_spd = -2\n",
    "    else:\n",
    "        epuck.rot_spd = 2\n",
    "        \n",
    "while True:    \n",
    "    if r.min_distance_to_object(\"20cmHighPillar\") < 300 :\n",
    "        r.fwd_spd -= 0.001\n",
    "        if r.fwd_spd < 0.03:\n",
    "            r.fwd_spd = 0.03\n",
    "    if x.min_distance_to_object(\"20cmHighPillar\") < 300 :\n",
    "        x.fwd_spd += 0.001\n",
    "        if x.fwd_spd > 0.07:\n",
    "            x.fwd_spd = 0.07\n",
    "        \n",
    "    if r.min_distance_to_object(\"ePuck\")<300:\n",
    "        r.fwd_spd += 0.001\n",
    "        if r.fwd_spd > 0.07:\n",
    "            r.fwd_spd = 0.07\n",
    "    if x.min_distance_to_object(\"ePuck\")<300:\n",
    "        r.fwd_spd -= 0.001\n",
    "        if r.fwd_spd < 0.03:\n",
    "            r.fwd_spd = 0.03\n",
    "    \n",
    "    #r(hunter) detects and chases the x(prey)\n",
    "    if r.min_distance_to_object(\"ePuck\",group=\"front-left\")<1000:\n",
    "        if r.min_distance_to_object(\"20cmHighWall\") < 200 or r.min_distance_to_object(\"20cmHighPillar\") < 100 : \n",
    "            obstacle_avoidance(r)\n",
    "        else:\n",
    "            r.rot_spd = 1.\n",
    "    elif r.min_distance_to_object(\"ePuck\",group=\"front-right\")<1000:\n",
    "        if r.min_distance_to_object(\"20cmHighWall\") < 200 or r.min_distance_to_object(\"20cmHighPillar\") < 100 : \n",
    "            obstacle_avoidance(r)\n",
    "        else:\n",
    "            r.rot_spd = -1.\n",
    "    else:\n",
    "        if r.min_distance_to_object(\"20cmHighWall\") < 200 or r.min_distance_to_object(\"20cmHighPillar\") < 100 : \n",
    "            obstacle_avoidance(r)\n",
    "        else:\n",
    "            r.rot_spd = 0.\n",
    "   \n",
    "    #x(prey) detects hunter and runs away\n",
    "    if x.min_distance_to_object(\"ePuck\",group=\"front-left\")<400:\n",
    "        if x.min_distance_to_object(\"20cmHighWall\") < 300 or x.min_distance_to_object(\"20cmHighPillar\") < 100: \n",
    "            obstacle_avoidance(x)\n",
    "        else:\n",
    "            x.rot_spd = -1\n",
    "    elif x.min_distance_to_object(\"ePuck\",group=\"front-right\")<400:\n",
    "        if x.min_distance_to_object(\"20cmHighWall\") < 300 or x.min_distance_to_object(\"20cmHighPillar\") < 100: \n",
    "            obstacle_avoidance(x)\n",
    "        else:\n",
    "            x.rot_spd = 1\n",
    "    elif x.min_distance_to_object(\"ePuck\",group=\"rear\")<400:\n",
    "        if x.min_distance_to_object(\"20cmHighWall\") < 300 or x.min_distance_to_object(\"20cmHighPillar\") < 100: \n",
    "            obstacle_avoidance(x)\n",
    "        else:\n",
    "            x.rot_spd = 0.\n",
    "        \n",
    "        \n",
    "    if r.min_distance_to_object(\"20cmHighWall\") < 300 or r.min_distance_to_object(\"20cmHighPillar\") < 100 : \n",
    "        obstacle_avoidance(r)\n",
    "    else:\n",
    "        r.rot_spd = 0.\n",
    "    if x.min_distance_to_object(\"20cmHighWall\") < 300 or x.min_distance_to_object(\"20cmHighPillar\") < 100: \n",
    "        obstacle_avoidance(x)\n",
    "    else:\n",
    "        x.rot_spd = 0.\n",
    "    \n",
    "    \n",
    "    "
   ]
  },
  {
   "cell_type": "code",
   "execution_count": null,
   "metadata": {
    "collapsed": true
   },
   "outputs": [],
   "source": []
  },
  {
   "cell_type": "code",
   "execution_count": null,
   "metadata": {
    "collapsed": true
   },
   "outputs": [],
   "source": []
  }
 ],
 "metadata": {
  "kernelspec": {
   "display_name": "Python 2",
   "language": "python",
   "name": "python2"
  },
  "language_info": {
   "codemirror_mode": {
    "name": "ipython",
    "version": 2
   },
   "file_extension": ".py",
   "mimetype": "text/x-python",
   "name": "python",
   "nbconvert_exporter": "python",
   "pygments_lexer": "ipython2",
   "version": "2.7.9"
  }
 },
 "nbformat": 4,
 "nbformat_minor": 0
}
