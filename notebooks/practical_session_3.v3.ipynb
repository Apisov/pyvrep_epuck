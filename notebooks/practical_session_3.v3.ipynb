{
 "metadata": {
  "kernelspec": {
   "display_name": "Python 2",
   "language": "python",
   "name": "python2"
  },
  "language_info": {
   "codemirror_mode": {
    "name": "ipython",
    "version": 2
   },
   "file_extension": ".py",
   "mimetype": "text/x-python",
   "name": "python",
   "nbconvert_exporter": "python",
   "pygments_lexer": "ipython2",
   "version": "2.7.9"
  },
  "name": ""
 },
 "nbformat": 3,
 "nbformat_minor": 0,
 "worksheets": [
  {
   "cells": [
    {
     "cell_type": "heading",
     "level": 1,
     "metadata": {},
     "source": [
      "Combining behaviors"
     ]
    },
    {
     "cell_type": "markdown",
     "metadata": {},
     "source": [
      "In the last session we've implemented a few behaviors for the e-puck robot in V-REP (random movements, line following, obstacle avoidance, object pushing...). In this session, we'll see how to combine them."
     ]
    },
    {
     "cell_type": "markdown",
     "metadata": {},
     "source": [
      "As usual, start the V-REP simulator, load the scene `epuck_scene.ttt`. To connect this notebook to the simulator, run the following:"
     ]
    },
    {
     "cell_type": "code",
     "collapsed": true,
     "input": [
      "# necessary stuff to set the paths:\n",
      "import sys\n",
      "sys.path.append(\"..\")\n",
      "\n",
      "# Import and create the connection to the simulator:\n",
      "from vrep.simulator import Simulator\n",
      "simulator = Simulator()\n",
      "\n",
      "# connect to the E-puck robot of the running V-REP scene\n",
      "epuck = simulator.get_epuck()\n",
      "\n",
      "# Start the simulator (equivalent to pressing the \"play\" button in vrep). To stop it, replace \"start\" by \"stop\"\n",
      "simulator.start()"
     ],
     "language": "python",
     "metadata": {},
     "outputs": [],
     "prompt_number": 1
    },
    {
     "cell_type": "heading",
     "level": 2,
     "metadata": {},
     "source": [
      "Structuring different behaviors in different functions"
     ]
    },
    {
     "cell_type": "markdown",
     "metadata": {},
     "source": [
      "In programming languages, one often uses *functions* as a way to structure the code, allowing an easier management of complex programs. Basically, one can see a function as a piece of code regrouped into a single expression. Consider for example the behavior of the question **Q2** of the last session: *the robot makes a random movement when an obstacle is closer than 10cm, otherwise it moves forward.* A possible way to program it is:"
     ]
    },
    {
     "cell_type": "code",
     "collapsed": false,
     "input": [
      "from numpy.random import rand  # import the random generator\n",
      "\n",
      "while True: # Repeat the lines below\n",
      "    if epuck.min_distance(\"front\") < 300:  # if there is an obstacle in front of the robot at less than 30cm\n",
      "        epuck.fwd_speed = rand() * 0.6 -0.3  # set a random forward speed between -0.3 and 0.3 (remember that rand() return a random number between 0 and 1)\n",
      "        epuck.right_spd = rand() * 2. -1  # set a random rotation speed between -1 and 1\n",
      "    else: # if there is no obstacle in front at less than 30cm\n",
      "        # move forward\n",
      "        epuck.fwd_spd = 0.4\n",
      "        epuck.rot_spd = 0."
     ],
     "language": "python",
     "metadata": {},
     "outputs": [],
     "prompt_number": null
    },
    {
     "cell_type": "markdown",
     "metadata": {},
     "source": [
      "This behavior actually contains two more primitive ones: ** make a random movement** (*if* the condition is true) and **move forward** (*else*, that is if the condition after the *if* is false). Let's regroup each behavior into a specific function:"
     ]
    },
    {
     "cell_type": "code",
     "collapsed": false,
     "input": [
      "# Function for the random movement:\n",
      "def random_movement():\n",
      "    epuck.fwd_speed = rand() * 0.6 -0.3  \n",
      "    epuck.right_spd = rand() * 2. -1   \n",
      "        \n",
      "# Function for moving forward:\n",
      "def move_forward():\n",
      "    epuck.fwd_spd = 0.4\n",
      "    epuck.rot_spd = 0.    "
     ],
     "language": "python",
     "metadata": {},
     "outputs": [],
     "prompt_number": 4
    },
    {
     "cell_type": "markdown",
     "metadata": {},
     "source": [
      "Each of the two functions above start with the keyword **def** (short for *definition*), followed by the name one wants to give to the function (here either **random_movement** or **move_forward**), followed by parentheses (function arguments can be indicated inside those parentheses, but we don't use them here, hence just an opening and a closing parenthesis). The indented lines of code below the function name are the instructions to be executed when the function will be called.\n",
      "\n",
      "Note that executing the last cell above doesn't have any effect on the robot. Actually the instructions are not executed here, we just define the functions by associating function names to a set of instructions. To actually run a function, we have to write:"
     ]
    },
    {
     "cell_type": "code",
     "collapsed": false,
     "input": [
      "random_movement()"
     ],
     "language": "python",
     "metadata": {},
     "outputs": [],
     "prompt_number": 5
    },
    {
     "cell_type": "markdown",
     "metadata": {},
     "source": [
      "This executes the two lines of codes that we've written for the function **random_movement** above. However the function call of the last cell does not reside in a loop (there is no `while True:`), so it doesn't allow the behavior to be continuously executed. It only defines what the robot should do for one time step.\n",
      "\n",
      "**Q1:** Rewrite the behavior written at the beginning of this section by calling the two functions that we have defined:"
     ]
    },
    {
     "cell_type": "code",
     "collapsed": true,
     "input": [],
     "language": "python",
     "metadata": {},
     "outputs": [],
     "prompt_number": null
    },
    {
     "cell_type": "markdown",
     "metadata": {},
     "source": [
      "Although the interest of using functions for such a simple behavior is limited, this way of coding will be useful in the following to structure the code in distinct functional units in order to conceive more and more complex behaviors.\n",
      "\n",
      "**Q2:** Define a function for the *obstacle avoidance* behavior you have programmed in the last session (Q4) (call it for example **avoid_obstacle()**. Note that it basically consists in copy-pasting the code you have written two weeks ago, don't reprogram it from scratch.) Then, use this function as well as the **move_forward** one defined above to program a behavior where the robot avoid obstacles when they are closer than 60cm and moves forward otherwise.\n",
      "\n",
      "*Note*: when you modify the definition of a function, you need to re-execute the corresponding cell for the change to be taken into account."
     ]
    },
    {
     "cell_type": "code",
     "collapsed": true,
     "input": [],
     "language": "python",
     "metadata": {},
     "outputs": [],
     "prompt_number": null
    },
    {
     "cell_type": "markdown",
     "metadata": {},
     "source": [
      "**Q3:** Define a function setting a random rotation velocity with a constant forward speed. Use it to program a behavior where the robots avoid obstacle when they are closer than 300cm (now in all directions, not only in front of the robot as above) and turns randomly otherwise."
     ]
    },
    {
     "cell_type": "code",
     "collapsed": true,
     "input": [],
     "language": "python",
     "metadata": {},
     "outputs": [],
     "prompt_number": null
    },
    {
     "cell_type": "markdown",
     "metadata": {},
     "source": [
      "**Q4:** Define a function for the line following behavior you have coded in the last session (Q5). Starting from your code for **Q3** above, extend the overall behavior such that the robot follows the line when it detects it on the floor. For this you might need to reduce the constant forward speed set in the function implementing the random rotation (it will facilitate the line detection for the robot). When the robot meets an obstacle while following the line, it should switch to the obstacle avoidance behavior (therefore stopping to follow the line). \n",
      "\n",
      "- *Note 1:* To make tests, remember that you can move objects on the V-REP scene in live while the simulation is running.\n",
      "- *Note 2:*: A compact way of switching between more than two behaviors is to use the `if ... elif ... else ...` structure `elif` is the shortcut for `else if`, see [this tutorial](http://www.pythonforbeginners.com/basics/python-if-elif-else-statement) for more information about how to use it, or ask me if it is not clear."
     ]
    },
    {
     "cell_type": "code",
     "collapsed": true,
     "input": [],
     "language": "python",
     "metadata": {},
     "outputs": [],
     "prompt_number": null
    },
    {
     "cell_type": "heading",
     "level": 2,
     "metadata": {},
     "source": [
      "Recognizing objects"
     ]
    },
    {
     "cell_type": "markdown",
     "metadata": {},
     "source": [
      "I have added the possibility of recognizing objects through the proximity sensors of the e-puck, allowing for example to know whether the detected object is a wall or a pillar. Each object of a V-REP scene has a unique name to identify it, that you can see in the scene hierarchy displayed on the second column of the graphical interface (the top element should be called `epuck-scene(scene 1)`. In this hierarchy, you can for example see the names of the kind of trash bins that are in the scene: they are called `Cup`, `Cup0`, `Cup1` etc. To know if one of these cup is detected through one of the proximity sensors, you can use:"
     ]
    },
    {
     "cell_type": "code",
     "collapsed": false,
     "input": [
      "epuck.min_distance_to_object(\"Cup\")"
     ],
     "language": "python",
     "metadata": {},
     "outputs": [
      {
       "metadata": {},
       "output_type": "pyout",
       "prompt_number": 5,
       "text": [
        "1684.2118460691086"
       ]
      }
     ],
     "prompt_number": 5
    },
    {
     "cell_type": "markdown",
     "metadata": {},
     "source": [
      "which returns the distance to the closest detected cup if one is detected. If no cup is detected, it will return the maximum distance that a proximeter can detect, i.e. 2000mm. \n",
      "\n",
      "In fact, the line above detects any object with a name starting by `Cup`, it could be either `Cup`, `Cup0`, `Cup1` etc. Note that you can also specify a *group* of proximeters to be used, as in `epuck.min_distance()` that we have used in the last session. For example:"
     ]
    },
    {
     "cell_type": "code",
     "collapsed": false,
     "input": [
      "epuck.min_distance_to_object(\"20cmHigh\", group=\"all-but-rear\")"
     ],
     "language": "python",
     "metadata": {},
     "outputs": [],
     "prompt_number": null
    },
    {
     "cell_type": "markdown",
     "metadata": {},
     "source": [
      "returns the closest distance to a wall or a pillar detected by any sensor except the two rear ones. (Note that both wall and pillar names of the original scene start with \"20cmHigh\" in the scene hierarchy panel.)"
     ]
    },
    {
     "cell_type": "markdown",
     "metadata": {},
     "source": [
      "**Q5:** Continue augmenting the overall behavior by adding a function for the object pushing behavior you have coded during the last session (Q5). The robot should push cups when it detects one closer than 80cm, but should switch back to the object avoidance behavior whenever a non-cup object (wall or pillar) is closer than 30cm (even if it was pushing a cup at that time). "
     ]
    },
    {
     "cell_type": "code",
     "collapsed": true,
     "input": [],
     "language": "python",
     "metadata": {},
     "outputs": [],
     "prompt_number": null
    },
    {
     "cell_type": "markdown",
     "metadata": {},
     "source": [
      "**Q6: ** Identify the limitations of the complex behavior you have programmed, in particular regarding the possible blocking situations where the robot could execute the same primitive behavior forever. Think about a way of solving those issues, possibly mentioning concepts that have been taught in other courses. What kind of mechanisms could prevent a biological organism to avoid those blocking situations?"
     ]
    },
    {
     "cell_type": "markdown",
     "metadata": {},
     "source": []
    },
    {
     "cell_type": "heading",
     "level": 1,
     "metadata": {},
     "source": [
      "Going further"
     ]
    },
    {
     "cell_type": "markdown",
     "metadata": {},
     "source": [
      "**Q7: ** Program a wall following behavior and include into the overall behavior of the robot in an eleguant way. "
     ]
    },
    {
     "cell_type": "code",
     "collapsed": true,
     "input": [],
     "language": "python",
     "metadata": {},
     "outputs": [],
     "prompt_number": null
    },
    {
     "cell_type": "markdown",
     "metadata": {},
     "source": [
      "**Q8:** Have a look at the notebook called `multi-robots.ipynb`. I explains how to deal with several e-pucks in the same V-REP scene. Program different kind of complex behaviors in different robot and study how complex patterns of interaction can emerge from those coupled behavior."
     ]
    },
    {
     "cell_type": "code",
     "collapsed": true,
     "input": [],
     "language": "python",
     "metadata": {},
     "outputs": [],
     "prompt_number": null
    }
   ],
   "metadata": {}
  }
 ]
}