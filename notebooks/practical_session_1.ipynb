{
 "metadata": {
  "name": "",
  "signature": "sha256:03707a222624df28d8e77a6114682bd9e842636ce1d2f29026ef555d7e56af7b"
 },
 "nbformat": 3,
 "nbformat_minor": 0,
 "worksheets": [
  {
   "cells": [
    {
     "cell_type": "heading",
     "level": 1,
     "metadata": {},
     "source": [
      "First steps with the simulator"
     ]
    },
    {
     "cell_type": "markdown",
     "metadata": {},
     "source": [
      "In the practical sessions, we will use two modern tools widely used in robotics:\n",
      "\n",
      "- the [V-REP simulator](http://www.coppeliarobotics.com/)\n",
      "- the Python programming language, and in particular the IPython notebooks"
     ]
    },
    {
     "cell_type": "heading",
     "level": 2,
     "metadata": {},
     "source": [
      "V-REP simulator"
     ]
    },
    {
     "cell_type": "markdown",
     "metadata": {},
     "source": [
      "V-REP is a robot simulator, i.e. a software allowing the simulate the physics of various robots evolving in various environments. A number of robots are available, from humanoids to mobile robots. It is also possible to create custom robots by assembling the avalaible motors and sensors according to specific needs. "
     ]
    },
    {
     "cell_type": "heading",
     "level": 3,
     "metadata": {},
     "source": [
      "Starting the simulator"
     ]
    },
    {
     "cell_type": "markdown",
     "metadata": {},
     "source": [
      "In the following, `$VREP_DIR` denotes the directory where the V-REP resides. To start the simulator, open a terminal an move to the V-REP directory:\n",
      "    \n",
      "    cd $VREP_DIR\n",
      "    \n",
      "Then start the program by running:\n",
      "\n",
      "    ./vrep.sh"
     ]
    },
    {
     "cell_type": "markdown",
     "metadata": {},
     "source": [
      "This will launch the V-REP graphical interface. The V-REP documentation is [available online](http://www.coppeliarobotics.com/helpFiles/index.html). Take 10 to 15mn to read the page about the user interface. Try adding to drag and drop one or two robots in the scenes, as well as a number of environmental elements (e.g. trees, walls). Navigate into the scene using the scence rotation, zoom and translation buttons. Move the different elements of the scene using the object translation and rotation button. Try to reproduce the following scene:\n",
      "\n",
      "![Example V-REP scene](example_vrep_scene.png)\n"
     ]
    },
    {
     "cell_type": "markdown",
     "metadata": {},
     "source": [
      "Start the simulation by clicking on the \"play\"-like button (triangle). You'll see the robot moving and avoiding te obstacles. This is due to a pre-defined control script which is attached to the robot. If you are curious you can look at the script by clicking on the \"file\"-like icon next to the robot name in the scene hierarchy panel. The programming language used in it is [Lua](http://www.lua.org/about.html). **However**, we'll not program the robot using such a script during the practical session. We'll not program directly in the simulator but using an external editor, another programming language, and even another robot. This was just a quick example for you to see the simulator at work."
     ]
    },
    {
     "cell_type": "heading",
     "level": 3,
     "metadata": {},
     "source": [
      "Loading a scene"
     ]
    },
    {
     "cell_type": "markdown",
     "metadata": {},
     "source": [
      "V-REP scenes, as the one you've just created, can be saved into a file to be reloaded later on. Let's load the scene we will use in this practical session.\n",
      "\n",
      "First close the previous scene (File -> Close scene). Then open the scene called `epuck-scene.ttt` in the directory you cloned from github. This will load a scene containing an [E-puck](http://www.e-puck.org/) mobile robot in an area bounded by four walls. This robot has a number of actuators and sensors that we will describe. You can zoom in the robot to inspect it in more detail. "
     ]
    },
    {
     "cell_type": "heading",
     "level": 2,
     "metadata": {},
     "source": [
      "Controlling the E-puck programmatically"
     ]
    },
    {
     "cell_type": "markdown",
     "metadata": {},
     "source": [
      "We will use the Python language to control the robot, a widely-used programming language which has the advantage to be easy to learn as well as allowing interactive programming. The document you are currently reading is actually called a IPython Notebook, which is a web-based interface to the Python interpreter. This means that this document is interactive. Try for example to execute the code below by clicking on it and pressing `Shift + Enter`:"
     ]
    },
    {
     "cell_type": "code",
     "collapsed": false,
     "input": [
      "1 + 1"
     ],
     "language": "python",
     "metadata": {},
     "outputs": []
    },
    {
     "cell_type": "markdown",
     "metadata": {},
     "source": [
      "This will print the result of the operation. Of course we can do much more complicated things with this language. Controlling a robot is one of them.\n",
      "\n",
      "Let's connect this IPython Notebook to the simulator which should still be running on your machine. First, we have to import the library written for this purpose. A for the previous cell, click on the code below and press `Shift + Enter` to execute it. In the following, we will not repeat this last sentence, just execute the code in each cell which contains some (unless not to do it is explicitely specified)."
     ]
    },
    {
     "cell_type": "code",
     "collapsed": false,
     "input": [
      "import sys\n",
      "sys.path.append(\"..\")\n",
      "from robots.epuck import Epuck\n",
      "epuck = Epuck()"
     ],
     "language": "python",
     "metadata": {},
     "outputs": [],
     "prompt_number": 1
    },
    {
     "cell_type": "markdown",
     "metadata": {},
     "source": [
      "Nothing happens, it's normal. Don't worry if you don't understand the meaning of this code, just consider it as a necessary step before being able to communicate with the E-puck robot in V-REP. Now that it is done, you can start the simulator by executing (first check that the V-REP simulator is stopped by pressing the \"stop\"-like button (square). \n",
      "\n"
     ]
    },
    {
     "cell_type": "code",
     "collapsed": false,
     "input": [
      "epuck.start()"
     ],
     "language": "python",
     "metadata": {},
     "outputs": [],
     "prompt_number": 2
    },
    {
     "cell_type": "markdown",
     "metadata": {},
     "source": [
      "Now the simulator should be started, i.e. the \"play\"-like button should appear as pressed. Note that you can also stop it programmatically:"
     ]
    },
    {
     "cell_type": "code",
     "collapsed": false,
     "input": [
      "epuck.stop()"
     ],
     "language": "python",
     "metadata": {},
     "outputs": [],
     "prompt_number": 3
    },
    {
     "cell_type": "markdown",
     "metadata": {},
     "source": [
      "Now the simulator should be stopped, i.e. the \"stop\"-like button should appear as pressed. But for now let's keep it started:"
     ]
    },
    {
     "cell_type": "code",
     "collapsed": false,
     "input": [
      "epuck.start()"
     ],
     "language": "python",
     "metadata": {},
     "outputs": [],
     "prompt_number": 35
    },
    {
     "cell_type": "heading",
     "level": 3,
     "metadata": {},
     "source": [
      "Actuators"
     ]
    },
    {
     "cell_type": "markdown",
     "metadata": {},
     "source": [
      "The E-Puck robot has to wheels, allowing its navigation into the environment. Each wheel speed can be controlled individually. Let's for example set the speed of the left wheel to 1 (in radian per second):"
     ]
    },
    {
     "cell_type": "code",
     "collapsed": false,
     "input": [
      "epuck.left_vel(10)"
     ],
     "language": "python",
     "metadata": {},
     "outputs": [],
     "prompt_number": 21
    },
    {
     "cell_type": "markdown",
     "metadata": {},
     "source": [
      "The code line above means *set the velocity of the left wheel to 1 rad/s*. You should see the robot moving in a circle around itself, since the left wheel turn and the right one doesn't. \n",
      "\n",
      "**Q1:** What is the condition for the robot to turn left? to turn right? to move straight forward? to stop?"
     ]
    },
    {
     "cell_type": "markdown",
     "metadata": {},
     "source": []
    },
    {
     "cell_type": "markdown",
     "metadata": {},
     "source": [
      "You can control the right wheel in the same way, using `epuck.right_vel(x)`, where `x` has to be replace by the desired velocity.\n",
      "\n",
      "**Q2:** How can you make the robot move forward without any rotation? Write the corresponding code in the cell below. "
     ]
    },
    {
     "cell_type": "code",
     "collapsed": false,
     "input": [],
     "language": "python",
     "metadata": {},
     "outputs": [],
     "prompt_number": 15
    },
    {
     "cell_type": "markdown",
     "metadata": {},
     "source": [
      "**Q3:** Now write the code making the robot stops:"
     ]
    },
    {
     "cell_type": "code",
     "collapsed": false,
     "input": [],
     "language": "python",
     "metadata": {},
     "outputs": []
    },
    {
     "cell_type": "markdown",
     "metadata": {},
     "source": [
      "**Q4:** And the code to make it move in a large circle:"
     ]
    },
    {
     "cell_type": "code",
     "collapsed": false,
     "input": [],
     "language": "python",
     "metadata": {},
     "outputs": [],
     "prompt_number": 36
    },
    {
     "cell_type": "markdown",
     "metadata": {},
     "source": [
      "Try more complex choregraphies. A useful function for this is the ability to wait for a given time by using `epuck.wait(x)`, where `x` is to time to wait for in seconds. Here is an example, where the robot goes forward during 3 seconds, then turns right during 0.5 second, then goes forward again during 2 seconds, and finally stops."
     ]
    },
    {
     "cell_type": "code",
     "collapsed": false,
     "input": [
      "epuck.left_vel(3)\n",
      "epuck.right_vel(3)\n",
      "epuck.wait(3)\n",
      "epuck.left_vel(3)\n",
      "epuck.right_vel(0)\n",
      "epuck.wait(0.5)\n",
      "epuck.left_vel(3)\n",
      "epuck.right_vel(3)\n",
      "epuck.wait(2)\n",
      "epuck.left_vel(0)\n",
      "epuck.right_vel(0)"
     ],
     "language": "python",
     "metadata": {},
     "outputs": [],
     "prompt_number": 3
    },
    {
     "cell_type": "markdown",
     "metadata": {},
     "source": [
      "A few important remarks:\n",
      "- when calling `epuck.wait(.)`, the robot keeps moving its wheels at the same speed as previously set,\n",
      "- the time in seconds indicated in `epuck.wait(.)` corresponds to the simulation time in V-REP, which is in general different from the \"true\" time from your computer clock (either slower or faster according to your machine performance). The simulation time is indicated in the upper-left corner of the scence visualisation paner in V-REP."
     ]
    },
    {
     "cell_type": "markdown",
     "metadata": {},
     "source": [
      "**Q5:** Write the code allowing the robot to move roughly in a \"8\" shape. To do so you'll have to fine tune the waiting times by trial on error.  "
     ]
    },
    {
     "cell_type": "code",
     "collapsed": false,
     "input": [
      "epuck.left_vel(3)\n",
      "epuck.right_vel(6)\n",
      "epuck.wait(6)\n",
      "epuck.left_vel(6)\n",
      "epuck.right_vel(3)\n",
      "epuck.wait(6)"
     ],
     "language": "python",
     "metadata": {},
     "outputs": []
    },
    {
     "cell_type": "heading",
     "level": 3,
     "metadata": {},
     "source": [
      "Sensors"
     ]
    },
    {
     "cell_type": "markdown",
     "metadata": {},
     "source": [
      "The E-puck robot is equipped with proximity sensors, as well as a camera and a light sensor. A proximity sensor indicates the distance to the closest obstacle, if any, in a particular direction. Eight proximity sensors are pointing in various directions around the robot, as in indicated in this top-view of the robot:\n",
      "\n",
      "![E-Puck interface](epuck_interface.png)"
     ]
    },
    {
     "cell_type": "markdown",
     "metadata": {},
     "source": [
      "In the picture above, the robot front direction is towards the bottom of the page. The eight proximeters are indicated by the small black square. The values next to the squares are the value returned by each proximeter (here 0 everywhere, indicating that no obstacle is detected by any sensor). This view can be displayed in V-REP by clicking on the E-Puck when the simulation is starting. Please don't pay attention to the texts written in the middle (*Follow line* and *Follow friend*): they are two pre-programmed behaviors that has been removed in the context of this course.\n",
      "\n",
      "Using the commands learnt in the previous section, move the robot close to a wall in the scene and stop it:"
     ]
    },
    {
     "cell_type": "code",
     "collapsed": false,
     "input": [
      "epuck.left_vel(3)\n",
      "epuck.right_vel(3)"
     ],
     "language": "python",
     "metadata": {},
     "outputs": [],
     "prompt_number": 5
    },
    {
     "cell_type": "code",
     "collapsed": false,
     "input": [
      "epuck.left_vel(0)\n",
      "epuck.right_vel(0)"
     ],
     "language": "python",
     "metadata": {},
     "outputs": [],
     "prompt_number": 6
    },
    {
     "cell_type": "markdown",
     "metadata": {},
     "source": [
      "Whenever a proximeter detect an obstacle, a pink line is displayed in V-REP showing the corresponding direction. The maximum detection distance is to meter (this has been modified from the original specifications of the robot, for the sake of this course). The eight proximeter values can be assessed with:"
     ]
    },
    {
     "cell_type": "code",
     "collapsed": false,
     "input": [
      "epuck.proximeters()"
     ],
     "language": "python",
     "metadata": {},
     "outputs": [
      {
       "metadata": {},
       "output_type": "pyout",
       "prompt_number": 7,
       "text": [
        "array([ 1288.1008713 ,   952.99622995,   544.25601498,   319.86468703,\n",
        "         282.18841937,   431.57969407,     0.        ,     0.        ])"
       ]
      }
     ],
     "prompt_number": 7
    },
    {
     "cell_type": "markdown",
     "metadata": {},
     "source": [
      "A null value (=0) indicates that no obstacle is detected for that proximeter. A positive value indicates the distance in millimeter from the obstacle in the direction of the corresponding proximeter.\n",
      "\n",
      "Using the picture above and the proximeter activity values returned by the previous command, make sure that you are able to identify which sensor corresponds to which value (i.e. map the values above to the pink lines in V-REP). "
     ]
    },
    {
     "cell_type": "code",
     "collapsed": false,
     "input": [],
     "language": "python",
     "metadata": {},
     "outputs": []
    }
   ],
   "metadata": {}
  }
 ]
}