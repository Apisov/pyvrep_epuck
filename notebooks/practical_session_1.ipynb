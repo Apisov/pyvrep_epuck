{
 "metadata": {
  "name": "",
  "signature": "sha256:53c9a14918dcafaa5ed0a434d77b0a3defa190ffb9e05ae1d27e25f71ac33b05"
 },
 "nbformat": 3,
 "nbformat_minor": 0,
 "worksheets": [
  {
   "cells": [
    {
     "cell_type": "code",
     "collapsed": false,
     "input": [
      "%%javascript\n",
      "IPython.load_extensions('calico-spell-check')"
     ],
     "language": "python",
     "metadata": {},
     "outputs": [
      {
       "javascript": [
        "IPython.load_extensions('calico-spell-check')"
       ],
       "metadata": {},
       "output_type": "display_data",
       "text": [
        "<IPython.core.display.Javascript at 0x7fb3a09ea5d0>"
       ]
      }
     ],
     "prompt_number": 1
    },
    {
     "cell_type": "heading",
     "level": 1,
     "metadata": {},
     "source": [
      "First steps with the simulator"
     ]
    },
    {
     "cell_type": "markdown",
     "metadata": {},
     "source": [
      "In the practical sessions, we will use two modern tools widely used in robotics:\n",
      "\n",
      "- the [V-REP simulator](http://www.coppeliarobotics.com/)\n",
      "- the [Python programming language](https://docs.python.org/2.7), used in an interactive environment called [IPython notebooks](http://ipython.org/notebook.html)"
     ]
    },
    {
     "cell_type": "heading",
     "level": 2,
     "metadata": {},
     "source": [
      "V-REP simulator"
     ]
    },
    {
     "cell_type": "markdown",
     "metadata": {},
     "source": [
      "V-REP is a robot simulator, i.e. a software allowing the simulate the physics of various robots evolving in various environments. A number of robots are available, from humanoids to mobile robots. It is also possible to create custom robots by assembling the available motors and sensors according to specific needs. "
     ]
    },
    {
     "cell_type": "heading",
     "level": 3,
     "metadata": {},
     "source": [
      "Starting the simulator"
     ]
    },
    {
     "cell_type": "markdown",
     "metadata": {},
     "source": [
      "To start the simulator, open a terminal an move to the directory where V-REP is installed:\n",
      "    \n",
      "    cd /opt/V-REP_PRO_EDU_V3_2_2_64_Linux\n",
      "    \n",
      "Then start the program by running:\n",
      "\n",
      "    ./vrep.sh"
     ]
    },
    {
     "cell_type": "markdown",
     "metadata": {},
     "source": [
      "This will launch the V-REP graphical interface. The V-REP documentation is [available online](http://www.coppeliarobotics.com/helpFiles/index.html). Take 10 to 15mn to read the page called *User interface* (click on it in the left pane). Try to drag and drop one or two robots in the scenes, as well as a number of environmental elements (e.g. trees, walls). Navigate into the scene using the scene rotation, zoom and translation buttons. Move the different elements of the scene using the object translation and rotation buttons. Try to reproduce the following scene:\n",
      "\n",
      "![Example V-REP scene](example_vrep_scene.png)\n"
     ]
    },
    {
     "cell_type": "markdown",
     "metadata": {},
     "source": [
      "Start the simulation by clicking on the \"play\"-like button (triangle). You'll see the robot moving and avoiding the obstacles. This is due to a pre-defined control script which is attached to the robot. If you are curious you can look at the script by clicking on the \"file\"-like icon next to the robot name in the scene hierarchy panel. The programming language used in it is [Lua](http://www.lua.org/about.html). **However**, we'll not program the robot using such a script during the practical sessions. We'll not program directly in the simulator but using an external editor, another programming language, and even another robot. This was just a quick example for you to see the simulator at work."
     ]
    },
    {
     "cell_type": "heading",
     "level": 3,
     "metadata": {},
     "source": [
      "Loading a scene"
     ]
    },
    {
     "cell_type": "markdown",
     "metadata": {},
     "source": [
      "V-REP scenes, as the one you've just created, can be saved into a file to be reloaded later on. Let's load the scene we will use in this practical session.\n",
      "\n",
      "First close the previous scene (File -> Close scene). Then open the scene called `epuck-scene.ttt` in the directory `Documents/pyvrep-epuck`. This will load a scene containing an [E-puck](http://www.e-puck.org/) mobile robot in an area bounded by four walls. This robot has a number of actuators and sensors that we will describe. You can use the scene rotation, translation and zooming buttons to inspect the robot in more detail. However it is not recommended to save the modified scene, since the scene view has been chosen to be convenient for the exercises below. To reload the scene as it was before, you can push the \"stop\" then the \"play\" buttons. "
     ]
    },
    {
     "cell_type": "heading",
     "level": 2,
     "metadata": {},
     "source": [
      "Controlling the E-puck programmatically"
     ]
    },
    {
     "cell_type": "markdown",
     "metadata": {},
     "source": [
      "We will use the Python language to control the robot, a widely-used programming language which has the advantage to be easy to learn as well as allowing interactive programming. The document you are currently reading is actually called a IPython Notebook, which is a web-based interface to the Python interpreter. This means that this document is interactive. Try for example to execute the code below by clicking on it and pressing `Shift + Enter`:"
     ]
    },
    {
     "cell_type": "code",
     "collapsed": false,
     "input": [
      "1 + 1"
     ],
     "language": "python",
     "metadata": {},
     "outputs": []
    },
    {
     "cell_type": "markdown",
     "metadata": {},
     "source": [
      "This will print the result of the operation. Of course we can do much more complicated things with this language. Controlling a robot is one of them.\n",
      "\n",
      "Let's connect this IPython Notebook to the simulator which should still be running on your machine. First, we have to import the library written for this purpose. A for the previous cell, click on the code below and press `Shift + Enter` to execute it. In the following, we will not repeat this last sentence, just execute the code in each cell which contains some (unless not to do it is explicitely specified)."
     ]
    },
    {
     "cell_type": "code",
     "collapsed": false,
     "input": [
      "import sys\n",
      "sys.path.append(\"..\")\n",
      "from robots.epuck import Epuck\n",
      "epuck = Epuck()"
     ],
     "language": "python",
     "metadata": {},
     "outputs": [],
     "prompt_number": 2
    },
    {
     "cell_type": "markdown",
     "metadata": {},
     "source": [
      "Nothing happens, it's normal. Don't worry if you don't understand the meaning of this code, just consider it as a necessary step before being able to communicate with the E-puck robot in V-REP. Now that it is done, you can start the simulator by executing (first check that the V-REP simulator is stopped by pressing the \"stop\"-like button (square). \n",
      "\n"
     ]
    },
    {
     "cell_type": "code",
     "collapsed": false,
     "input": [
      "epuck.start()"
     ],
     "language": "python",
     "metadata": {},
     "outputs": [],
     "prompt_number": 3
    },
    {
     "cell_type": "markdown",
     "metadata": {},
     "source": [
      "Now the simulator should be started, i.e. the \"play\"-like button should appear as pressed. Note that you can also stop it programmatically:"
     ]
    },
    {
     "cell_type": "code",
     "collapsed": false,
     "input": [
      "epuck.stop()"
     ],
     "language": "python",
     "metadata": {},
     "outputs": [],
     "prompt_number": 3
    },
    {
     "cell_type": "markdown",
     "metadata": {},
     "source": [
      "Now the simulator should be stopped, i.e. the \"stop\"-like button should appear as pressed. But for now let's keep it started:"
     ]
    },
    {
     "cell_type": "code",
     "collapsed": false,
     "input": [
      "epuck.start()"
     ],
     "language": "python",
     "metadata": {},
     "outputs": [],
     "prompt_number": 35
    },
    {
     "cell_type": "heading",
     "level": 3,
     "metadata": {},
     "source": [
      "Actuators"
     ]
    },
    {
     "cell_type": "markdown",
     "metadata": {},
     "source": [
      "The E-Puck robot has to wheels, allowing its navigation into the environment. Each wheel speed can be controlled individually. Let's for example set the speed of the left wheel to 1 (in radian per second):"
     ]
    },
    {
     "cell_type": "code",
     "collapsed": false,
     "input": [
      "epuck.left_vel(10)"
     ],
     "language": "python",
     "metadata": {},
     "outputs": [],
     "prompt_number": 21
    },
    {
     "cell_type": "markdown",
     "metadata": {},
     "source": [
      "The code line above means *set the velocity of the left wheel to 1 rad/s*. You should see the robot moving in a circle around itself, since the left wheel turn and the right one doesn't. \n",
      "\n",
      "**Q1:** What is the condition for the robot to turn left? to turn right? to move straight forward? to stop?"
     ]
    },
    {
     "cell_type": "markdown",
     "metadata": {},
     "source": []
    },
    {
     "cell_type": "markdown",
     "metadata": {},
     "source": [
      "You can control the right wheel in the same way, using `epuck.right_vel(x)`, where `x` has to be replace by the desired velocity.\n",
      "\n",
      "**Q2:** How can you make the robot move forward without any rotation? Write the corresponding code in the cell below. "
     ]
    },
    {
     "cell_type": "code",
     "collapsed": false,
     "input": [],
     "language": "python",
     "metadata": {},
     "outputs": [],
     "prompt_number": 15
    },
    {
     "cell_type": "markdown",
     "metadata": {},
     "source": [
      "**Q3:** Now write the code making the robot stops:"
     ]
    },
    {
     "cell_type": "code",
     "collapsed": false,
     "input": [],
     "language": "python",
     "metadata": {},
     "outputs": []
    },
    {
     "cell_type": "markdown",
     "metadata": {},
     "source": [
      "**Q4:** And the code to make it move in a large circle:"
     ]
    },
    {
     "cell_type": "code",
     "collapsed": false,
     "input": [],
     "language": "python",
     "metadata": {},
     "outputs": [],
     "prompt_number": 36
    },
    {
     "cell_type": "markdown",
     "metadata": {},
     "source": [
      "Let's try more complex choregraphies. A useful function for this is the ability to wait for a given time by using `epuck.wait(x)`, where `x` is to time to wait for in seconds. Here is an example, where the robot goes forward during 3 seconds, then turns right during 0.5 second, then goes forward again during 2 seconds, and finally stops."
     ]
    },
    {
     "cell_type": "code",
     "collapsed": false,
     "input": [
      "epuck.left_vel(3)\n",
      "epuck.right_vel(3)\n",
      "epuck.wait(3)\n",
      "epuck.left_vel(3)\n",
      "epuck.right_vel(0)\n",
      "epuck.wait(0.5)\n",
      "epuck.left_vel(3)\n",
      "epuck.right_vel(3)\n",
      "epuck.wait(2)\n",
      "epuck.left_vel(0)\n",
      "epuck.right_vel(0)"
     ],
     "language": "python",
     "metadata": {},
     "outputs": [],
     "prompt_number": 3
    },
    {
     "cell_type": "markdown",
     "metadata": {},
     "source": [
      "A few important remarks:\n",
      "- when calling `epuck.wait(.)`, the robot keeps moving its wheels at the same speed as previously set, until the next call to `epuck.left_vel(.)` or `epuck.right_vel(.)`,\n",
      "- the time in seconds indicated in `epuck.wait(.)` corresponds to the simulation time in V-REP, which is in general different from the \"true\" time from your computer clock (either slower or faster according to your machine performance). The simulation time is indicated in the upper-left corner of the scence visualisation paner in V-REP.\n",
      "\n",
      "Now, let's repeat the previous coregraphy 4 times. In the code below, the first is `for i in range(4):`. In this expression, `"
     ]
    },
    {
     "cell_type": "code",
     "collapsed": false,
     "input": [
      "for i in range(4):\n",
      "    epuck.left_vel(3)\n",
      "    epuck.right_vel(3)\n",
      "    epuck.wait(3)\n",
      "    epuck.left_vel(3)\n",
      "    epuck.right_vel(0)\n",
      "    epuck.wait(0.5)\n",
      "    epuck.left_vel(3)\n",
      "    epuck.right_vel(3)\n",
      "    epuck.wait(2)\n",
      "    epuck.left_vel(0)\n",
      "    epuck.right_vel(0)"
     ],
     "language": "python",
     "metadata": {},
     "outputs": [],
     "prompt_number": 4
    },
    {
     "cell_type": "markdown",
     "metadata": {},
     "source": [
      "**Q5:** Write the code allowing the robot to move roughly in a \"8\" shape. To do so you'll have to fine tune the waiting times by trial on error. Then makes the robot repeat it 8 times."
     ]
    },
    {
     "cell_type": "code",
     "collapsed": false,
     "input": [
      "for i in range(8):\n",
      "    epuck.left_vel(3)\n",
      "    epuck.right_vel(6)\n",
      "    epuck.wait(6)\n",
      "    epuck.left_vel(6)\n",
      "    epuck.right_vel(3)\n",
      "    epuck.wait(6)"
     ],
     "language": "python",
     "metadata": {},
     "outputs": [],
     "prompt_number": 7
    },
    {
     "cell_type": "heading",
     "level": 3,
     "metadata": {},
     "source": [
      "Sensors"
     ]
    },
    {
     "cell_type": "markdown",
     "metadata": {},
     "source": [
      "The E-puck robot is equipped with proximity sensors, as well as a camera and a light sensor. A proximity sensor indicates the distance to the closest obstacle, if any, in a particular direction. Eight proximity sensors are pointing in various directions around the robot, as in indicated in this top-view of the robot:\n",
      "\n",
      "![E-Puck interface](epuck_interface.png)"
     ]
    },
    {
     "cell_type": "markdown",
     "metadata": {},
     "source": [
      "In the picture above, the robot front direction is towards the bottom of the page. The eight proximeters are indicated by the small black square. The values next to the squares are the value returned by each proximeter (here 0 everywhere, indicating that no obstacle is detected by any sensor). This view can be displayed in V-REP by clicking on the E-Puck when the simulation is starting. Please don't pay attention to the texts written in the middle (*Follow line* and *Follow friend*): they are two pre-programmed behaviors that has been removed in the context of this course.\n",
      "\n",
      "Using the commands learnt in the previous section, move the front of the robot close to a wall in the scene and stop it:"
     ]
    },
    {
     "cell_type": "code",
     "collapsed": false,
     "input": [
      "epuck.left_vel(0)\n",
      "epuck.right_vel(3)"
     ],
     "language": "python",
     "metadata": {},
     "outputs": [],
     "prompt_number": 2
    },
    {
     "cell_type": "code",
     "collapsed": false,
     "input": [
      "epuck.left_vel(0)\n",
      "epuck.right_vel(0)"
     ],
     "language": "python",
     "metadata": {},
     "outputs": [],
     "prompt_number": 7
    },
    {
     "cell_type": "markdown",
     "metadata": {},
     "source": [
      "Whenever a proximeter detect an obstacle, a pink line is displayed in V-REP showing the corresponding direction. The maximum detection distance is to meter (this has been modified from the original specifications of the robot, for the sake of this course). The eight proximeter values can be assessed with:"
     ]
    },
    {
     "cell_type": "code",
     "collapsed": false,
     "input": [
      "epuck.proximeters()"
     ],
     "language": "python",
     "metadata": {},
     "outputs": [
      {
       "metadata": {},
       "output_type": "pyout",
       "prompt_number": 7,
       "text": [
        "array([ 1288.1008713 ,   952.99622995,   544.25601498,   319.86468703,\n",
        "         282.18841937,   431.57969407,     0.        ,     0.        ])"
       ]
      }
     ],
     "prompt_number": 7
    },
    {
     "cell_type": "markdown",
     "metadata": {},
     "source": [
      "A null value (=0) indicates that no obstacle is detected for that proximeter. A positive value indicates the distance in millimeter from the obstacle in the direction of the corresponding proximeter.\n",
      "\n",
      "Using the picture above and the proximeter activity values returned by the previous command, make sure that you are able to identify which sensor corresponds to which value (i.e. map the values above to the pink lines in V-REP). "
     ]
    },
    {
     "cell_type": "code",
     "collapsed": false,
     "input": [],
     "language": "python",
     "metadata": {},
     "outputs": []
    },
    {
     "cell_type": "code",
     "collapsed": false,
     "input": [
      "import sys\n",
      "sys.path.append(\"..\")\n",
      "from robots.epuck import Epuck\n",
      "epuck = Epuck()"
     ],
     "language": "python",
     "metadata": {},
     "outputs": [],
     "prompt_number": 1
    },
    {
     "cell_type": "code",
     "collapsed": false,
     "input": [
      "epuck.left_vel(3)\n",
      "epuck.right_vel(0)\n",
      "epuck.wait(1.)\n",
      "epuck.left_vel(0)\n",
      "epuck.right_vel(0)\n",
      "start_time = epuck.simulation_time()\n",
      "while epuck.simulation_time() < start_time + 10:\n",
      "    obstacle = epuck.is_min_distance(group=\"front\", min_dist=10)  \n",
      "    # print obstacle\n",
      "    if obstacle:\n",
      "        epuck.left_vel(0)\n",
      "        epuck.right_vel(0)\n",
      "    else:\n",
      "        epuck.left_vel(3)\n",
      "        epuck.right_vel(3)\n",
      "    epuck.wait(0.01)"
     ],
     "language": "python",
     "metadata": {},
     "outputs": [
      {
       "output_type": "stream",
       "stream": "stdout",
       "text": [
        "[ 1667.3738419   1921.74602578]\n",
        "[ 1674.03291905]\n",
        "[ 1703.83103194]"
       ]
      },
      {
       "output_type": "stream",
       "stream": "stdout",
       "text": [
        "\n",
        "[ 1800.82054052  1947.14716436]\n",
        "[ 1798.07120074  1937.29295543]"
       ]
      },
      {
       "output_type": "stream",
       "stream": "stdout",
       "text": [
        "\n",
        "[ 1790.81689692  1928.47075718]\n",
        "[ 1786.13458084  1922.25026158]"
       ]
      },
      {
       "output_type": "stream",
       "stream": "stdout",
       "text": [
        "\n",
        "[ 1780.128134    1918.48685926]\n",
        "[ 1771.58586863  1911.85813395]"
       ]
      },
      {
       "output_type": "stream",
       "stream": "stdout",
       "text": [
        "\n",
        "[ 1766.20241777  1906.9329728 ]\n",
        "[ 1758.92183726  1898.080623  ]"
       ]
      },
      {
       "output_type": "stream",
       "stream": "stdout",
       "text": [
        "\n",
        "[ 1753.86355112  1892.50508841]\n",
        "[ 1749.22150925  1886.27112309]"
       ]
      },
      {
       "output_type": "stream",
       "stream": "stdout",
       "text": [
        "\n",
        "[ 1741.74244104  1877.85404144]\n",
        "[ 1736.12260774  1873.33146479]"
       ]
      },
      {
       "output_type": "stream",
       "stream": "stdout",
       "text": [
        "\n",
        "[ 1727.91686654  1866.25944251]\n",
        "[ 1722.56297926  1861.29191301]"
       ]
      },
      {
       "output_type": "stream",
       "stream": "stdout",
       "text": [
        "\n",
        "[ 1714.44050642  1853.79578971]\n",
        "[ 1709.36468233  1848.31862627]"
       ]
      },
      {
       "output_type": "stream",
       "stream": "stdout",
       "text": [
        "\n",
        "[ 1704.56102494  1842.35098536]\n",
        "[ 1697.12227378  1833.75677081]"
       ]
      },
      {
       "output_type": "stream",
       "stream": "stdout",
       "text": [
        "\n",
        "[ 1691.82116685  1828.75426499]\n",
        "[ 1683.33003707  1822.18837551]"
       ]
      },
      {
       "output_type": "stream",
       "stream": "stdout",
       "text": [
        "\n",
        "[ 1678.02000058  1817.17513763]\n",
        "[ 1672.04570709  1813.34238232]"
       ]
      },
      {
       "output_type": "stream",
       "stream": "stdout",
       "text": [
        "\n",
        "[ 1663.91865778  1806.24452455]\n",
        "[ 1658.85418434  1800.76930665]"
       ]
      },
      {
       "output_type": "stream",
       "stream": "stdout",
       "text": [
        "\n",
        "[ 1651.87474066  1791.35375432]\n",
        "[ 1646.92746806  1785.70504257]"
       ]
      },
      {
       "output_type": "stream",
       "stream": "stdout",
       "text": [
        "\n",
        "[ 1639.91580967  1776.36271351]\n",
        "[ 1635.13453125  1770.36916777]"
       ]
      },
      {
       "output_type": "stream",
       "stream": "stdout",
       "text": [
        "\n",
        "[ 1630.17314699  1764.73958297]\n",
        "[ 1622.63162678  1756.36836115]"
       ]
      },
      {
       "output_type": "stream",
       "stream": "stdout",
       "text": [
        "\n",
        "[ 1617.40137519  1751.1724364 ]\n",
        "[ 1611.74823583  1746.73587678]"
       ]
      },
      {
       "output_type": "stream",
       "stream": "stdout",
       "text": [
        "\n",
        "[ 1604.84675904  1737.28077102]\n",
        "[ 1600.14102132  1731.1907629 ]"
       ]
      },
      {
       "output_type": "stream",
       "stream": "stdout",
       "text": [
        "\n",
        "[ 1592.50251773  1723.069601  ]\n",
        "[ 1587.12936482  1718.08098766]"
       ]
      },
      {
       "output_type": "stream",
       "stream": "stdout",
       "text": [
        "\n",
        "[ 1579.15238015  1710.63008242]\n",
        "[ 1574.12936877  1705.13247481]"
       ]
      },
      {
       "output_type": "stream",
       "stream": "stdout",
       "text": [
        "\n",
        "[ 1568.85396036  1700.09219173]\n",
        "[ 1560.73997974  1692.78094822]"
       ]
      },
      {
       "output_type": "stream",
       "stream": "stdout",
       "text": [
        "\n",
        "[ 1555.78890326  1687.15880303]\n",
        "[ 1549.20934696  1677.27514068]"
       ]
      },
      {
       "output_type": "stream",
       "stream": "stdout",
       "text": [
        "\n",
        "[ 1544.00668749  1672.07644418]\n",
        "[ 1538.73824086  1666.98233981]"
       ]
      },
      {
       "output_type": "stream",
       "stream": "stdout",
       "text": [
        "\n",
        "[ 1530.99541221  1659.13417685]\n",
        "[ 1525.90487668  1653.72624792]"
       ]
      },
      {
       "output_type": "stream",
       "stream": "stdout",
       "text": [
        "\n",
        "[ 1518.05873007  1646.10264383]\n",
        "[ 1513.93538599  1639.08250786]"
       ]
      },
      {
       "output_type": "stream",
       "stream": "stdout",
       "text": [
        "\n",
        "[ 1509.49523522  1632.64306144]\n",
        "[ 1501.5759305   1625.05066658]"
       ]
      },
      {
       "output_type": "stream",
       "stream": "stdout",
       "text": [
        "\n",
        "[ 1496.07231512  1620.31576305]\n",
        "[ 1486.44397797  1615.55945063]"
       ]
      },
      {
       "output_type": "stream",
       "stream": "stdout",
       "text": [
        "\n",
        "[ 1480.93051049  1610.84424948]\n",
        "[ 1475.29107972  1606.47771459]"
       ]
      },
      {
       "output_type": "stream",
       "stream": "stdout",
       "text": [
        "\n",
        "[ 1467.5851431  1598.5174555]\n",
        "[ 1462.43970406  1593.22268484]"
       ]
      },
      {
       "output_type": "stream",
       "stream": "stdout",
       "text": [
        "\n",
        "[ 1455.77463034  1583.4743485 ]\n",
        "[ 1450.62697794  1578.14668557]"
       ]
      },
      {
       "output_type": "stream",
       "stream": "stdout",
       "text": [
        "\n",
        "[ 1444.85910749  1573.91298629]\n",
        "[ 1436.482406    1567.11467425]"
       ]
      },
      {
       "output_type": "stream",
       "stream": "stdout",
       "text": [
        "\n",
        "[ 1431.37639829  1561.71032721]\n",
        "[ 1422.7312627   1555.33933756]"
       ]
      },
      {
       "output_type": "stream",
       "stream": "stdout",
       "text": [
        "\n",
        "[ 1418.83962014  1547.86384966]\n",
        "[ 1414.92952249  1540.51399108]"
       ]
      },
      {
       "output_type": "stream",
       "stream": "stdout",
       "text": [
        "\n",
        "[ 1407.62897597  1531.94180357]\n",
        "[ 1402.06442829  1527.40287137]"
       ]
      },
      {
       "output_type": "stream",
       "stream": "stdout",
       "text": [
        "\n",
        "[ 1396.40487312  1522.94396644]\n",
        "[ 1388.42632038  1515.46248918]"
       ]
      },
      {
       "output_type": "stream",
       "stream": "stdout",
       "text": [
        "\n",
        "[ 1383.5305136   1509.76096272]\n",
        "[ 1375.87059695  1501.6966128 ]"
       ]
      },
      {
       "output_type": "stream",
       "stream": "stdout",
       "text": [
        "\n",
        "[ 1370.73228632  1496.48264906]\n",
        "[ 1362.55438591  1489.24994054]"
       ]
      },
      {
       "output_type": "stream",
       "stream": "stdout",
       "text": [
        "\n",
        "[ 1357.18197238  1484.43736937]\n",
        "[ 1352.30685207  1478.6356518 ]"
       ]
      },
      {
       "output_type": "stream",
       "stream": "stdout",
       "text": [
        "\n",
        "[ 1345.1553927   1469.93450343]\n",
        "[ 1340.0014354   1464.63621295]"
       ]
      },
      {
       "output_type": "stream",
       "stream": "stdout",
       "text": [
        "\n",
        "[ 1331.21802468  1458.42337788]\n",
        "[ 1326.07372944  1453.15188252]"
       ]
      },
      {
       "output_type": "stream",
       "stream": "stdout",
       "text": [
        "\n",
        "[ 1320.76508552  1448.09875707]\n",
        "[ 1312.53501405  1441.08090378]"
       ]
      },
      {
       "output_type": "stream",
       "stream": "stdout",
       "text": [
        "\n",
        "[ 1307.63558991  1435.3431503 ]\n"
       ]
      }
     ],
     "prompt_number": 2
    },
    {
     "cell_type": "code",
     "collapsed": false,
     "input": [],
     "language": "python",
     "metadata": {},
     "outputs": []
    }
   ],
   "metadata": {}
  }
 ]
}