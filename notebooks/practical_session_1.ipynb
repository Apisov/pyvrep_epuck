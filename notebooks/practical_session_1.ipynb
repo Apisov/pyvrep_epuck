{
 "metadata": {
  "name": "",
  "signature": "sha256:9a6975cc71b832a45113cf24e5e8cedb129123e809be32b5c433827fbff5bb69"
 },
 "nbformat": 3,
 "nbformat_minor": 0,
 "worksheets": [
  {
   "cells": [
    {
     "cell_type": "code",
     "collapsed": false,
     "input": [
      "%%javascript\n",
      "IPython.load_extensions('calico-spell-check')"
     ],
     "language": "python",
     "metadata": {},
     "outputs": [
      {
       "javascript": [
        "IPython.load_extensions('calico-spell-check')"
       ],
       "metadata": {},
       "output_type": "display_data",
       "text": [
        "<IPython.core.display.Javascript at 0x7fb3a09ea5d0>"
       ]
      }
     ],
     "prompt_number": 1
    },
    {
     "cell_type": "heading",
     "level": 1,
     "metadata": {},
     "source": [
      "First steps with the simulator"
     ]
    },
    {
     "cell_type": "markdown",
     "metadata": {},
     "source": [
      "If you haven't done it yet, first make a copy of this document on which you will work. To do so, use `File -> Make a copy`. This will open a new tab with a copy of this document. Rename it by clicking on the document title `practical_session_1-Copy0` at the top of the document and enter the new name `YourName_pratical_session_1`. Now we are ready to go.\n",
      "\n",
      "\n",
      "In the practical sessions, we will use two modern tools widely used in robotics:\n",
      "\n",
      "- the [V-REP simulator](http://www.coppeliarobotics.com/), that you have previously downloaded and ran,\n",
      "- the [Python programming language](https://docs.python.org/2.7), used in an interactive environment called [IPython notebooks](http://ipython.org/notebook.html), which corresponds to the interactive document you are currently reading."
     ]
    },
    {
     "cell_type": "heading",
     "level": 2,
     "metadata": {},
     "source": [
      "V-REP simulator"
     ]
    },
    {
     "cell_type": "markdown",
     "metadata": {},
     "source": [
      "V-REP is a robot simulator, i.e. a software allowing to simulate the physics of various robots evolving in various environments. A number of robots are available, from humanoids to mobile robots. It is also possible to create your own custom robots by assembling the available motors and sensors according to specific needs. If you have correctly followed [the previous instructions](https://github.com/clement-moulin-frier/pyvrep-epuck), the V-REP graphical interface is already running on your computer."
     ]
    },
    {
     "cell_type": "markdown",
     "metadata": {},
     "source": [
      "The V-REP documentation is [available online](http://www.coppeliarobotics.com/helpFiles/index.html). Take 10 to 15mn to read the page called *User interface* (click on it in the left pane). Try to drag and drop a robot in the scenes, as well as various of environmental elements (e.g. trees, walls). Navigate into the scene using the scene rotation, zoom and translation buttons. Move the different elements of the scene using the object translation and rotation buttons. \n",
      "\n",
      "**Q1:** Try to reproduce the following scene:\n",
      "\n",
      "![Example V-REP scene](files/example_vrep_scene.png)\n"
     ]
    },
    {
     "cell_type": "markdown",
     "metadata": {},
     "source": [
      "Start the simulation by clicking on the \"play\"-like button (triangle) above the scene visualization pane. You'll see the robot moving and avoiding the obstacles. This is due to a pre-defined control script which is attached to the robot. If you are curious you can look at this script by clicking on the \"file\"-like icon next to the robot name in the scene hierarchy panel. The programming language used in it is [Lua](http://www.lua.org/about.html). **However**, we will not program the robot using such a script during the practical sessions. We will not program directly in the simulator neither, we will instead directly program in the IPython Notebook (the current document). We will also use another programming language and another robot, this was just a quick example for you to see the simulator at work."
     ]
    },
    {
     "cell_type": "heading",
     "level": 3,
     "metadata": {},
     "source": [
      "Loading a scene"
     ]
    },
    {
     "cell_type": "markdown",
     "metadata": {},
     "source": [
      "V-REP scenes, as the one you've just created, can be saved into a file to be reloaded later on. Let's load the scene we will use in this practical session.\n",
      "\n",
      "First close the previous scene (in V-REP: `File -> Close scene`). Then open the scene called `epuck-scene.ttt` in the directory `Documents/pyvrep-epuck` (in V-REP: `File -> OPen scene`). This will load a scene containing an [E-puck](http://www.e-puck.org/) mobile robot in an area bounded by four walls. This robot has a number of actuators and sensors that we will describe. You can use the scene rotation, translation and zooming buttons to inspect the robot in more detail. However it is not recommended to save the modified scene, since the scene view has been chosen to be convenient for the exercises below. To reload the scene as it was before, use `File -> Open recent scene -> epuck-scene.ttt` (saying no in case one asks you to save the previous one). "
     ]
    },
    {
     "cell_type": "heading",
     "level": 2,
     "metadata": {},
     "source": [
      "Controlling the E-puck programmatically"
     ]
    },
    {
     "cell_type": "markdown",
     "metadata": {},
     "source": [
      "We will use the Python language to control the robot, a widely-used programming language which has the advantage to be easy to learn, with modern interactive programming tools. The document you are currently reading is actually called a IPython Notebook, which is a web-based interface to the Python interpreter. This means that this document is interactive. Try for example to execute the code below by clicking on it and pressing `Shift + Enter`:"
     ]
    },
    {
     "cell_type": "code",
     "collapsed": false,
     "input": [
      "1 + 1"
     ],
     "language": "python",
     "metadata": {},
     "outputs": []
    },
    {
     "cell_type": "markdown",
     "metadata": {},
     "source": [
      "This will print the result of the operation. Of course we can do much more complicated things with this language. Controlling a robot is one of them.\n",
      "\n",
      "Let's connect this IPython Notebook to the simulator which is running on your machine. First, we have to import the library written for this purpose. As for the previous cell, click on the code below and press `Shift + Enter` to execute it. In the following, we will not repeat this last sentence, just execute the code in each cell which contains some (unless not to do it is explicitly specified)."
     ]
    },
    {
     "cell_type": "code",
     "collapsed": false,
     "input": [
      "import sys\n",
      "sys.path.append(\"..\")\n",
      "from robots.epuck import Epuck\n",
      "epuck = Epuck()"
     ],
     "language": "python",
     "metadata": {},
     "outputs": []
    },
    {
     "cell_type": "markdown",
     "metadata": {},
     "source": [
      "Nothing happens, it's normal. Don't worry if you don't understand the meaning of this code, just consider it as a necessary step before being able to communicate with the E-puck robot in V-REP. Now that it is done, you can start the simulator by executing (first check that the V-REP simulator is stopped by pressing the \"stop\"-like button (square). \n",
      "\n"
     ]
    },
    {
     "cell_type": "code",
     "collapsed": false,
     "input": [
      "epuck.start()"
     ],
     "language": "python",
     "metadata": {},
     "outputs": [],
     "prompt_number": 3
    },
    {
     "cell_type": "markdown",
     "metadata": {},
     "source": [
      "Now the simulator should be started, i.e. the \"play\"-like button should appear as pressed.You can also stop the simulation programmatically:"
     ]
    },
    {
     "cell_type": "code",
     "collapsed": false,
     "input": [
      "epuck.stop()"
     ],
     "language": "python",
     "metadata": {},
     "outputs": [],
     "prompt_number": 3
    },
    {
     "cell_type": "markdown",
     "metadata": {},
     "source": [
      "Now the simulator should be stopped, i.e. the \"stop\"-like button should appear as pressed. Both starting and stopping the simulation can be done either programmatically as we just did, or using the V-REP interface buttons \"play\" and \"stop\". But for now let's keep it started:"
     ]
    },
    {
     "cell_type": "code",
     "collapsed": false,
     "input": [
      "epuck.start()"
     ],
     "language": "python",
     "metadata": {},
     "outputs": [],
     "prompt_number": 35
    },
    {
     "cell_type": "heading",
     "level": 3,
     "metadata": {},
     "source": [
      "Actuators"
     ]
    },
    {
     "cell_type": "markdown",
     "metadata": {},
     "source": [
      "The E-Puck robot has to wheels, allowing its navigation in the environment. Each wheel speed can be controlled individually. Let's for example set the speed of the left wheel to 1 (in radian per second):"
     ]
    },
    {
     "cell_type": "code",
     "collapsed": false,
     "input": [
      "epuck.left_vel(1)"
     ],
     "language": "python",
     "metadata": {},
     "outputs": [],
     "prompt_number": 21
    },
    {
     "cell_type": "markdown",
     "metadata": {},
     "source": [
      "The code line above means *set the velocity of the left wheel to 1 rad/s*. You should see the robot moving in a circle around itself, since the left wheel turns and the right one doesn't. \n",
      "\n",
      "**Q1:** What is the condition for the robot to turn left? to turn right? to move straight forward? to stop?"
     ]
    },
    {
     "cell_type": "markdown",
     "metadata": {},
     "source": []
    },
    {
     "cell_type": "markdown",
     "metadata": {},
     "source": [
      "You can control the right wheel in the same way, using `epuck.right_vel(x)`, where `x` has to be replaced by the desired velocity.\n",
      "\n",
      "**Q2:** How can you make the robot move forward without any rotation? Write the corresponding code in the cell below. "
     ]
    },
    {
     "cell_type": "code",
     "collapsed": false,
     "input": [],
     "language": "python",
     "metadata": {},
     "outputs": [],
     "prompt_number": 15
    },
    {
     "cell_type": "markdown",
     "metadata": {},
     "source": [
      "**Q3:** Now write the code making the robot stop:"
     ]
    },
    {
     "cell_type": "code",
     "collapsed": false,
     "input": [],
     "language": "python",
     "metadata": {},
     "outputs": []
    },
    {
     "cell_type": "markdown",
     "metadata": {},
     "source": [
      "**Q4:** And the code to make it move in a large circle:"
     ]
    },
    {
     "cell_type": "code",
     "collapsed": false,
     "input": [],
     "language": "python",
     "metadata": {},
     "outputs": [],
     "prompt_number": 36
    },
    {
     "cell_type": "markdown",
     "metadata": {},
     "source": [
      "Let's try more complex choreographies. A useful function for this is the ability to wait for a given time by using `epuck.wait(x)`, where `x` is to time to wait for, in seconds. Here is an example, where the robot goes forward during 3 seconds, then turns right during 0.5 second, then goes forward again during 2 seconds, and finally stops."
     ]
    },
    {
     "cell_type": "code",
     "collapsed": false,
     "input": [
      "# Move forward, by setting each wheel speed at the same positive value\n",
      "epuck.left_vel(3)\n",
      "epuck.right_vel(3)\n",
      "\n",
      "# Wait for 3 seconds, keeping moving forward at the same speed\n",
      "epuck.wait(3)\n",
      "\n",
      "# Turn right by setting a positive speed to the left wheel and stoping the right one (null speed)\n",
      "epuck.left_vel(3)\n",
      "epuck.right_vel(0)\n",
      "\n",
      "# Keep turning for 0.5 second\n",
      "epuck.wait(0.5)\n",
      "\n",
      "# Move forward again for 2 seconds\n",
      "epuck.left_vel(3)\n",
      "epuck.right_vel(3)\n",
      "epuck.wait(2)\n",
      "\n",
      "# Stop the robot\n",
      "epuck.left_vel(0)\n",
      "epuck.right_vel(0)"
     ],
     "language": "python",
     "metadata": {},
     "outputs": [],
     "prompt_number": 3
    },
    {
     "cell_type": "markdown",
     "metadata": {},
     "source": [
      "A few important remarks regarding the code above:\n",
      "- each line beginning with a `#` symbol corresponds to a comment and will therefore not be executed (it is just to explain verbally what the code does),\n",
      "- when calling `epuck.wait(.)`, the robot keeps moving its wheels at the same speed as previously set, until the next call to `epuck.left_vel(.)` or `epuck.right_vel(.)`,\n",
      "- the time in seconds indicated in `epuck.wait(.)` corresponds to the simulation time in V-REP, which is in general different from the \"true\" time from your computer clock (either slower or faster according to your machine performance). The simulation time is indicated in the upper-left corner of the scene visualization panel in V-REP.\n",
      "\n",
      "Now, let's repeat the previous choreography 4 times. In the code below, the first line, `for i in range(4):`, means *repeat 4 times the indented code below* (actually it is a bit more complicated than this, but out of the scope of the current session).  The indented code is the exact same as just before. You can change the number `4` in the first line by any number `x`, to repeat it `x` times instead of 4."
     ]
    },
    {
     "cell_type": "code",
     "collapsed": false,
     "input": [
      "for i in range(4):\n",
      "    epuck.left_vel(3)\n",
      "    epuck.right_vel(3)\n",
      "    epuck.wait(3)\n",
      "    epuck.left_vel(3)\n",
      "    epuck.right_vel(0)\n",
      "    epuck.wait(0.5)\n",
      "    epuck.left_vel(3)\n",
      "    epuck.right_vel(3)\n",
      "    epuck.wait(2)\n",
      "    epuck.left_vel(0)\n",
      "    epuck.right_vel(0)"
     ],
     "language": "python",
     "metadata": {},
     "outputs": [],
     "prompt_number": 4
    },
    {
     "cell_type": "markdown",
     "metadata": {},
     "source": [
      "**Q5:** Write the code allowing the robot to move roughly in a \"8\" shape. To do so you'll have to fine tune the waiting times by trial on error. Then makes the robot repeat it 6 times."
     ]
    },
    {
     "cell_type": "code",
     "collapsed": false,
     "input": [],
     "language": "python",
     "metadata": {},
     "outputs": [],
     "prompt_number": 7
    },
    {
     "cell_type": "heading",
     "level": 3,
     "metadata": {},
     "source": [
      "Sensors"
     ]
    },
    {
     "cell_type": "markdown",
     "metadata": {},
     "source": [
      "The E-puck robot is equipped with proximity sensors, as well as a camera and a light sensor. A proximity sensor indicates the distance to the closest obstacle, if any, in a particular direction. Eight proximity sensors are pointing in various directions around the robot, as in indicated in this top-view of the robot:\n",
      "\n",
      "![E-Puck interface](epuck_interface.png)"
     ]
    },
    {
     "cell_type": "markdown",
     "metadata": {},
     "source": [
      "In the picture above, the robot front direction is towards the bottom of the page. The eight proximeters are indicated by the small black square. The values next to the squares are the value returned by each proximeter (here 0 everywhere, indicating that no obstacle is detected by any sensor). This view can be displayed in V-REP by clicking on the E-Puck when the simulation is starting. Please don't pay attention to the texts written in the middle (*Follow line* and *Follow friend*): they are two pre-programmed behaviors that has been removed in the context of this course.\n",
      "\n",
      "Using the commands learnt in the previous section, move the front of the robot close to a wall in the scene and stop it:"
     ]
    },
    {
     "cell_type": "code",
     "collapsed": false,
     "input": [
      "epuck.left_vel(0)\n",
      "epuck.right_vel(3)"
     ],
     "language": "python",
     "metadata": {},
     "outputs": [],
     "prompt_number": 2
    },
    {
     "cell_type": "code",
     "collapsed": false,
     "input": [
      "epuck.left_vel(0)\n",
      "epuck.right_vel(0)"
     ],
     "language": "python",
     "metadata": {},
     "outputs": [],
     "prompt_number": 7
    },
    {
     "cell_type": "markdown",
     "metadata": {},
     "source": [
      "Whenever a proximeter detect an obstacle, a pink line is displayed in V-REP showing the corresponding direction. The maximum detection distance is to meter (this has been modified from the original specifications of the robot, for the sake of this course). The eight proximeter values can be assessed with:"
     ]
    },
    {
     "cell_type": "code",
     "collapsed": false,
     "input": [
      "epuck.proximeters()"
     ],
     "language": "python",
     "metadata": {},
     "outputs": [
      {
       "metadata": {},
       "output_type": "pyout",
       "prompt_number": 7,
       "text": [
        "array([ 1288.1008713 ,   952.99622995,   544.25601498,   319.86468703,\n",
        "         282.18841937,   431.57969407,     0.        ,     0.        ])"
       ]
      }
     ],
     "prompt_number": 7
    },
    {
     "cell_type": "markdown",
     "metadata": {},
     "source": [
      "A null value (=0) indicates that no obstacle is detected for that proximeter. A positive value indicates the distance in millimeter from the obstacle in the direction of the corresponding proximeter.\n",
      "\n",
      "Using the picture above and the proximeter activity values returned by the previous command, make sure that you are able to identify which sensor corresponds to which value (i.e. map the values above to the pink lines in V-REP). "
     ]
    }
   ],
   "metadata": {}
  }
 ]
}