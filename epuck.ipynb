{
 "metadata": {
  "name": "",
  "signature": "sha256:c4b8dcb825668cb5d6b4bbce58d9f9adc578625379e2e42d678e78b12337d377"
 },
 "nbformat": 3,
 "nbformat_minor": 0,
 "worksheets": [
  {
   "cells": [
    {
     "cell_type": "code",
     "collapsed": false,
     "input": [
      "import sys\n",
      "sys.path.append(\"/home/clement/software/V-REP_PRO_EDU_V3_2_2_64_Linux/programming/remoteApiBindings/python/python/\")\n",
      "import vrep\n",
      "from math import sqrt\n",
      "from numpy import mean, array\n",
      "\n",
      "\n",
      "class Epuck(object):\n",
      "    def __init__(self):\n",
      "        vrep.simxFinish(-1) # just in case, close all opened connections\n",
      "        self.clientID = vrep.simxStart('127.0.0.1',19997, True, True, 5000, 5) # Connect to V-REP\n",
      "        _, self.left_joint = vrep.simxGetObjectHandle(self.clientID, 'ePuck_leftJoint', vrep.simx_opmode_oneshot_wait)\n",
      "        _, self.right_joint = vrep.simxGetObjectHandle(self.clientID, 'ePuck_rightJoint', vrep.simx_opmode_oneshot_wait)\n",
      "        self.prox_handles = []\n",
      "        for i in range(1,9):\n",
      "            _, p = vrep.simxGetObjectHandle(self.clientID, 'ePuck_proxSensor' + str(i), vrep.simx_opmode_oneshot_wait)\n",
      "            self.prox_handles.append(p)\n",
      "        \n",
      "        for i in range(8):\n",
      "            vrep.simxReadProximitySensor(self.clientID, self.prox_handles[i], vrep.simx_opmode_streaming)\n",
      "        \n",
      "        self.body = vrep.simxGetObjectHandle(self.clientID, \"ePuck_bodyElements\", vrep.simx_opmode_oneshot_wait)\n",
      "        self.wheel_diameter = 4.25 * 10 ** -2\n",
      "        self.base_lenght = 7 * 10 ** -2\n",
      "        \n",
      "        self.prox_aliases = {\"all\" : range(8),\n",
      "                             \"front\" : [2, 3],\n",
      "                             \"rear\" : [6, 7],\n",
      "                             \"front-left\" : [0, 1, 2],\n",
      "                             \"front-right\": [3, 4, 5]}\n",
      "        \n",
      "    def start(self):\n",
      "        self.left_vel(0.)\n",
      "        self.right_vel(0.)\n",
      "        vrep.simxStartSimulation(self.clientID, vrep.simx_opmode_oneshot_wait);\n",
      "    \n",
      "    def stop(self):\n",
      "        vrep.simxStopSimulation(self.clientID, vrep.simx_opmode_oneshot_wait);\n",
      "        \n",
      "    def left_vel(self, vel):\n",
      "        vrep.simxSetJointTargetVelocity(self.clientID, self.left_joint, vel, vrep.simx_opmode_oneshot)\n",
      "        \n",
      "    def right_vel(self, vel):\n",
      "        vrep.simxSetJointTargetVelocity(self.clientID, self.right_joint, vel, vrep.simx_opmode_oneshot)\n",
      "    \n",
      "    def move(self, forward, rotate=0.):\n",
      "        v_l = ( (2.0 * forward) - (rotate * self.base_lenght) ) / (self.wheel_diameter)\n",
      "        v_r = ( (2.0 * forward) + (rotate * self.base_lenght) ) / (self.wheel_diameter)\n",
      "        vrep.simxPauseCommunication(self.clientID, True)\n",
      "        self.left_vel(v_l)\n",
      "        self.right_vel(v_r)\n",
      "        vrep.simxPauseCommunication(self.clientID, False)\n",
      "    \n",
      "    def proximeters(self, group=\"all\"):\n",
      "        distances = []\n",
      "        vrep.simxPauseCommunication(self.clientID, True)\n",
      "        for i in range(8):\n",
      "            res, detectionState, detectedPoint, detectedObjectHandle, detectedSurfaceNormalVector = vrep.simxReadProximitySensor(self.clientID, self.prox_handles[i], vrep.simx_opmode_buffer)\n",
      "            if detectionState:\n",
      "                distances.append(1000 * sqrt(sum([x ** 2 for x in detectedPoint])))\n",
      "            else:\n",
      "                distances.append(0)\n",
      "        vrep.simxPauseCommunication(self.clientID, False)\n",
      "        return array(distances)[self.prox_aliases[group]]\n",
      "    \n",
      "    def obstacle(self, group=\"all\", min_dist = 10): #min_dist in millimeters\n",
      "        proxs = self.proximeters(group)\n",
      "        proxs = proxs[proxs != 0.]\n",
      "        if len(proxs):\n",
      "            return min(proxs) < min_dist\n",
      "        else:\n",
      "            return False\n",
      "    \n",
      "    def update(self):\n",
      "        if self.obstacle(group=\"front-left\"):\n",
      "            self.move(0.01, -1.)\n",
      "        elif self.obstacle(group=\"front-right\"):\n",
      "            self.move(0.01, 1.)\n",
      "        else:\n",
      "            self.move(0.1)"
     ],
     "language": "python",
     "metadata": {},
     "outputs": [],
     "prompt_number": 1
    },
    {
     "cell_type": "code",
     "collapsed": false,
     "input": [
      "epuck = Epuck()"
     ],
     "language": "python",
     "metadata": {},
     "outputs": [],
     "prompt_number": 2
    },
    {
     "cell_type": "code",
     "collapsed": false,
     "input": [
      "epuck.start()"
     ],
     "language": "python",
     "metadata": {},
     "outputs": [],
     "prompt_number": 3
    },
    {
     "cell_type": "code",
     "collapsed": false,
     "input": [
      "import time\n",
      "while True:\n",
      "    epuck.update()\n",
      "    time.sleep(0.01)"
     ],
     "language": "python",
     "metadata": {},
     "outputs": []
    },
    {
     "cell_type": "code",
     "collapsed": false,
     "input": [
      "epuck.move(0.0, 0.1)"
     ],
     "language": "python",
     "metadata": {},
     "outputs": [],
     "prompt_number": 14
    },
    {
     "cell_type": "code",
     "collapsed": false,
     "input": [
      "epuck.move(-0.0, 0.)"
     ],
     "language": "python",
     "metadata": {},
     "outputs": [],
     "prompt_number": 15
    },
    {
     "cell_type": "code",
     "collapsed": false,
     "input": [
      "#while True:\n",
      "epuck.left_vel(1.)\n",
      "epuck.right_vel(1.)"
     ],
     "language": "python",
     "metadata": {},
     "outputs": [],
     "prompt_number": 12
    },
    {
     "cell_type": "code",
     "collapsed": false,
     "input": [
      "epuck.stop()"
     ],
     "language": "python",
     "metadata": {},
     "outputs": [],
     "prompt_number": 19
    },
    {
     "cell_type": "code",
     "collapsed": false,
     "input": [
      "epuck.update()"
     ],
     "language": "python",
     "metadata": {},
     "outputs": [
      {
       "metadata": {},
       "output_type": "pyout",
       "prompt_number": 6,
       "text": [
        "(0.0030757186878145773, 0.014267283835540578)"
       ]
      }
     ],
     "prompt_number": 6
    },
    {
     "cell_type": "code",
     "collapsed": false,
     "input": [
      "sens = epuck.proximeters(\"front_right\")\n",
      "print sens\n",
      "min(sens[sens!=0.])"
     ],
     "language": "python",
     "metadata": {},
     "outputs": [
      {
       "output_type": "stream",
       "stream": "stdout",
       "text": [
        "[ 11.72275222  20.55213674   0.        ]\n"
       ]
      },
      {
       "metadata": {},
       "output_type": "pyout",
       "prompt_number": 10,
       "text": [
        "11.722752215476836"
       ]
      }
     ],
     "prompt_number": 10
    },
    {
     "cell_type": "code",
     "collapsed": false,
     "input": [
      "epuck.obstacle(group=\"rear\", min_dist=20)"
     ],
     "language": "python",
     "metadata": {},
     "outputs": [
      {
       "metadata": {},
       "output_type": "pyout",
       "prompt_number": 11,
       "text": [
        "True"
       ]
      }
     ],
     "prompt_number": 11
    },
    {
     "cell_type": "code",
     "collapsed": false,
     "input": [
      "epuck.proximeters()"
     ],
     "language": "python",
     "metadata": {},
     "outputs": [
      {
       "metadata": {},
       "output_type": "pyout",
       "prompt_number": 7,
       "text": [
        "array([  0.        ,  38.77520099,  16.26083609,  12.8461131 ,\n",
        "        18.67007239,   0.        ,   0.        ,   0.        ])"
       ]
      }
     ],
     "prompt_number": 7
    },
    {
     "cell_type": "code",
     "collapsed": false,
     "input": [
      "vrep.simxReadProximitySensor(epuck.clientID, epuck.prox_handles[5], vrep.simx_opmode_buffer)"
     ],
     "language": "python",
     "metadata": {},
     "outputs": [
      {
       "metadata": {},
       "output_type": "pyout",
       "prompt_number": 15,
       "text": [
        "(0,\n",
        " False,\n",
        " [-6.304471753537655e-06, -0.0033985914196819067, 0.012932207435369492],\n",
        " 53,\n",
        " [0.0004254865343682468, 0.6473219990730286, -0.7622165679931641])"
       ]
      }
     ],
     "prompt_number": 15
    },
    {
     "cell_type": "code",
     "collapsed": false,
     "input": [
      "proxs = []\n",
      "for i in range(1,9):\n",
      "    _, prox = vrep.simxGetObjectHandle(epuck.clientID, 'ePuck_proxSensor' + str(i), vrep.simx_opmode_oneshot_wait)\n",
      "    proxs.append(prox)"
     ],
     "language": "python",
     "metadata": {},
     "outputs": [],
     "prompt_number": 11
    },
    {
     "cell_type": "code",
     "collapsed": false,
     "input": [
      "res, detectionState, detectedPoint, detectedObjectHandle, detectedSurfaceNormalVector = vrep.simxReadProximitySensor(epuck.clientID, proxs[1], vrep.simx_opmode_oneshot_wait)"
     ],
     "language": "python",
     "metadata": {},
     "outputs": [],
     "prompt_number": 33
    },
    {
     "cell_type": "code",
     "collapsed": false,
     "input": [
      "from math import sqrt\n",
      "sqrt(sum([x ** 2 for x in detectedPoint]))"
     ],
     "language": "python",
     "metadata": {},
     "outputs": [
      {
       "metadata": {},
       "output_type": "pyout",
       "prompt_number": 36,
       "text": [
        "0.006979855504265273"
       ]
      }
     ],
     "prompt_number": 36
    },
    {
     "cell_type": "code",
     "collapsed": false,
     "input": [
      "proxs"
     ],
     "language": "python",
     "metadata": {},
     "outputs": [
      {
       "metadata": {},
       "output_type": "pyout",
       "prompt_number": 12,
       "text": [
        "[29, 30, 31, 32, 33, 34, 35, 36]"
       ]
      }
     ],
     "prompt_number": 12
    },
    {
     "cell_type": "code",
     "collapsed": false,
     "input": [
      "vrep.simxReadProximitySensor(epuck.clientID, proxs[3], vrep.simx_opmode_oneshot_wait)"
     ],
     "language": "python",
     "metadata": {},
     "outputs": [
      {
       "metadata": {},
       "output_type": "pyout",
       "prompt_number": 14,
       "text": [
        "(0,\n",
        " True,\n",
        " [1.0239048151561292e-06, -0.0008718345779925585, 0.007374793291091919],\n",
        " 53,\n",
        " [-0.00013787831994704902, 0.1174006462097168, -0.9930846095085144])"
       ]
      }
     ],
     "prompt_number": 14
    },
    {
     "cell_type": "code",
     "collapsed": false,
     "input": [
      "vrep.simxGetIntegerSignal(epuck.clientID, \"ePuck_proxSensor1\", vrep.simx_opmode_oneshot_wait)"
     ],
     "language": "python",
     "metadata": {},
     "outputs": [
      {
       "metadata": {},
       "output_type": "pyout",
       "prompt_number": 23,
       "text": [
        "(8, 0)"
       ]
      }
     ],
     "prompt_number": 23
    },
    {
     "cell_type": "code",
     "collapsed": false,
     "input": [
      "res, left_joint = vrep.simxGetObjectHandle(clientID, 'ePuck_leftJoint', vrep.simx_opmode_oneshot_wait)\n",
      "res, right_joint = vrep.simxGetObjectHandle(clientID, 'ePuck_rightJoint', vrep.simx_opmode_oneshot_wait)"
     ],
     "language": "python",
     "metadata": {},
     "outputs": [],
     "prompt_number": 13
    },
    {
     "cell_type": "code",
     "collapsed": false,
     "input": [
      "#res = vrep.simxPauseCommunication(clientID, True);\n",
      "res = vrep.simxSetJointTargetVelocity(clientID, left_joint, 0.3, vrep.simx_opmode_oneshot)\n",
      "res = vrep.simxSetJointTargetVelocity(clientID, right_joint, 0.3, vrep.simx_opmode_oneshot)\n",
      "#res = vrep.simxPauseCommunication(clientID, False);"
     ],
     "language": "python",
     "metadata": {},
     "outputs": [],
     "prompt_number": 48
    },
    {
     "cell_type": "code",
     "collapsed": false,
     "input": [
      "vrep.simxG"
     ],
     "language": "python",
     "metadata": {},
     "outputs": []
    },
    {
     "cell_type": "code",
     "collapsed": false,
     "input": [
      "res"
     ],
     "language": "python",
     "metadata": {},
     "outputs": [
      {
       "metadata": {},
       "output_type": "pyout",
       "prompt_number": 38,
       "text": [
        "0"
       ]
      }
     ],
     "prompt_number": 38
    },
    {
     "cell_type": "code",
     "collapsed": false,
     "input": [
      "res,objs=vrep.simxGetObjects(clientID,vrep.sim_handle_all,vrep.simx_opmode_oneshot_wait)"
     ],
     "language": "python",
     "metadata": {},
     "outputs": [],
     "prompt_number": 26
    },
    {
     "cell_type": "code",
     "collapsed": false,
     "input": [
      "res==vrep.simx_return_ok"
     ],
     "language": "python",
     "metadata": {},
     "outputs": [
      {
       "metadata": {},
       "output_type": "pyout",
       "prompt_number": 39,
       "text": [
        "True"
       ]
      }
     ],
     "prompt_number": 39
    },
    {
     "cell_type": "code",
     "collapsed": false,
     "input": [
      "objs"
     ],
     "language": "python",
     "metadata": {},
     "outputs": [
      {
       "metadata": {},
       "output_type": "pyout",
       "prompt_number": 6,
       "text": [
        "[0,\n",
        " 1,\n",
        " 2,\n",
        " 3,\n",
        " 4,\n",
        " 5,\n",
        " 6,\n",
        " 7,\n",
        " 8,\n",
        " 9,\n",
        " 10,\n",
        " 11,\n",
        " 12,\n",
        " 13,\n",
        " 14,\n",
        " 15,\n",
        " 16,\n",
        " 17,\n",
        " 18,\n",
        " 19,\n",
        " 20,\n",
        " 21,\n",
        " 22,\n",
        " 23,\n",
        " 24,\n",
        " 25,\n",
        " 26,\n",
        " 27,\n",
        " 28,\n",
        " 29,\n",
        " 30,\n",
        " 31,\n",
        " 32,\n",
        " 33,\n",
        " 34,\n",
        " 35,\n",
        " 36,\n",
        " 37,\n",
        " 38,\n",
        " 39,\n",
        " 40,\n",
        " 41,\n",
        " 42,\n",
        " 43,\n",
        " 44,\n",
        " 45,\n",
        " 46,\n",
        " 47]"
       ]
      }
     ],
     "prompt_number": 6
    },
    {
     "cell_type": "code",
     "collapsed": false,
     "input": [],
     "language": "python",
     "metadata": {},
     "outputs": []
    }
   ],
   "metadata": {}
  }
 ]
}